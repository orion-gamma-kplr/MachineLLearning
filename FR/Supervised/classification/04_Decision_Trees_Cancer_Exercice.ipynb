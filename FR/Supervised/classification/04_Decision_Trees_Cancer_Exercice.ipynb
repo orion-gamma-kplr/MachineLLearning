{
  "cells": [
    {
      "cell_type": "markdown",
      "metadata": {
        "id": "view-in-github",
        "colab_type": "text"
      },
      "source": [
        "<a href=\"https://colab.research.google.com/github/orion-gamma-kplr/MachineLLearning/blob/main/FR/Supervised/classification/04_Decision_Trees_Cancer_Exercice.ipynb\" target=\"_parent\"><img src=\"https://colab.research.google.com/assets/colab-badge.svg\" alt=\"Open In Colab\"/></a>"
      ]
    },
    {
      "cell_type": "markdown",
      "metadata": {
        "id": "0aa2YwOFw981"
      },
      "source": [
        "## <center> **Arbres de décision** </center>\n",
        "\n",
        "Ils sont utilisés pour l'apprentissage supervisé pour les tâches de classification et de régression.\n",
        "\n",
        "* https://scikit-learn.org/stable/modules/tree.html\n",
        "* https://scikit-learn.org/stable/modules/generated/sklearn.tree.DecisionTreeClassifier.html"
      ]
    },
    {
      "cell_type": "markdown",
      "metadata": {
        "id": "hYkRQobSw98-"
      },
      "source": [
        "### Install Graphviz module\n",
        "%sh```\n",
        "sudo pip3 install graphviz\n",
        "sudo yum install graphviz\n",
        "```"
      ]
    },
    {
      "cell_type": "code",
      "source": [
        "#!pip install graphviz\n",
        "!pip install mglearn\n",
        "!pip install sklearn\n",
        "!pip install -U scikit-learn"
      ],
      "metadata": {
        "id": "WJ1nNTWDmNpI",
        "outputId": "ae197de7-d3a2-4fc3-ee5a-7761edf76aba",
        "colab": {
          "base_uri": "https://localhost:8080/"
        }
      },
      "execution_count": 10,
      "outputs": [
        {
          "output_type": "stream",
          "name": "stdout",
          "text": [
            "Collecting mglearn\n",
            "  Downloading mglearn-0.2.0-py2.py3-none-any.whl (581 kB)\n",
            "\u001b[?25l     \u001b[90m━━━━━━━━━━━━━━━━━━━━━━━━━━━━━━━━━━━━━━━━\u001b[0m \u001b[32m0.0/581.4 kB\u001b[0m \u001b[31m?\u001b[0m eta \u001b[36m-:--:--\u001b[0m\r\u001b[2K     \u001b[91m━━━━━━━━━━━━━━━━━━━━━\u001b[0m\u001b[90m╺\u001b[0m\u001b[90m━━━━━━━━━━━━━━━━━\u001b[0m \u001b[32m317.4/581.4 kB\u001b[0m \u001b[31m9.4 MB/s\u001b[0m eta \u001b[36m0:00:01\u001b[0m\r\u001b[2K     \u001b[90m━━━━━━━━━━━━━━━━━━━━━━━━━━━━━━━━━━━━━━\u001b[0m \u001b[32m581.4/581.4 kB\u001b[0m \u001b[31m10.4 MB/s\u001b[0m eta \u001b[36m0:00:00\u001b[0m\n",
            "\u001b[?25hRequirement already satisfied: numpy in /usr/local/lib/python3.10/dist-packages (from mglearn) (1.22.4)\n",
            "Requirement already satisfied: matplotlib in /usr/local/lib/python3.10/dist-packages (from mglearn) (3.7.1)\n",
            "Requirement already satisfied: scikit-learn in /usr/local/lib/python3.10/dist-packages (from mglearn) (1.2.2)\n",
            "Requirement already satisfied: pandas in /usr/local/lib/python3.10/dist-packages (from mglearn) (1.5.3)\n",
            "Requirement already satisfied: pillow in /usr/local/lib/python3.10/dist-packages (from mglearn) (8.4.0)\n",
            "Requirement already satisfied: cycler in /usr/local/lib/python3.10/dist-packages (from mglearn) (0.11.0)\n",
            "Requirement already satisfied: imageio in /usr/local/lib/python3.10/dist-packages (from mglearn) (2.25.1)\n",
            "Requirement already satisfied: joblib in /usr/local/lib/python3.10/dist-packages (from mglearn) (1.3.1)\n",
            "Requirement already satisfied: contourpy>=1.0.1 in /usr/local/lib/python3.10/dist-packages (from matplotlib->mglearn) (1.1.0)\n",
            "Requirement already satisfied: fonttools>=4.22.0 in /usr/local/lib/python3.10/dist-packages (from matplotlib->mglearn) (4.41.0)\n",
            "Requirement already satisfied: kiwisolver>=1.0.1 in /usr/local/lib/python3.10/dist-packages (from matplotlib->mglearn) (1.4.4)\n",
            "Requirement already satisfied: packaging>=20.0 in /usr/local/lib/python3.10/dist-packages (from matplotlib->mglearn) (23.1)\n",
            "Requirement already satisfied: pyparsing>=2.3.1 in /usr/local/lib/python3.10/dist-packages (from matplotlib->mglearn) (3.1.0)\n",
            "Requirement already satisfied: python-dateutil>=2.7 in /usr/local/lib/python3.10/dist-packages (from matplotlib->mglearn) (2.8.2)\n",
            "Requirement already satisfied: pytz>=2020.1 in /usr/local/lib/python3.10/dist-packages (from pandas->mglearn) (2022.7.1)\n",
            "Requirement already satisfied: scipy>=1.3.2 in /usr/local/lib/python3.10/dist-packages (from scikit-learn->mglearn) (1.10.1)\n",
            "Requirement already satisfied: threadpoolctl>=2.0.0 in /usr/local/lib/python3.10/dist-packages (from scikit-learn->mglearn) (3.1.0)\n",
            "Requirement already satisfied: six>=1.5 in /usr/local/lib/python3.10/dist-packages (from python-dateutil>=2.7->matplotlib->mglearn) (1.16.0)\n",
            "Installing collected packages: mglearn\n",
            "Successfully installed mglearn-0.2.0\n",
            "Collecting sklearn\n",
            "  Downloading sklearn-0.0.post7.tar.gz (3.6 kB)\n",
            "  \u001b[1;31merror\u001b[0m: \u001b[1msubprocess-exited-with-error\u001b[0m\n",
            "  \n",
            "  \u001b[31m×\u001b[0m \u001b[32mpython setup.py egg_info\u001b[0m did not run successfully.\n",
            "  \u001b[31m│\u001b[0m exit code: \u001b[1;36m1\u001b[0m\n",
            "  \u001b[31m╰─>\u001b[0m See above for output.\n",
            "  \n",
            "  \u001b[1;35mnote\u001b[0m: This error originates from a subprocess, and is likely not a problem with pip.\n",
            "  Preparing metadata (setup.py) ... \u001b[?25l\u001b[?25herror\n",
            "\u001b[1;31merror\u001b[0m: \u001b[1mmetadata-generation-failed\u001b[0m\n",
            "\n",
            "\u001b[31m×\u001b[0m Encountered error while generating package metadata.\n",
            "\u001b[31m╰─>\u001b[0m See above for output.\n",
            "\n",
            "\u001b[1;35mnote\u001b[0m: This is an issue with the package mentioned above, not pip.\n",
            "\u001b[1;36mhint\u001b[0m: See above for details.\n",
            "Requirement already satisfied: scikit-learn in /usr/local/lib/python3.10/dist-packages (1.2.2)\n",
            "Collecting scikit-learn\n",
            "  Downloading scikit_learn-1.3.0-cp310-cp310-manylinux_2_17_x86_64.manylinux2014_x86_64.whl (10.8 MB)\n",
            "\u001b[2K     \u001b[90m━━━━━━━━━━━━━━━━━━━━━━━━━━━━━━━━━━━━━━━━\u001b[0m \u001b[32m10.8/10.8 MB\u001b[0m \u001b[31m69.4 MB/s\u001b[0m eta \u001b[36m0:00:00\u001b[0m\n",
            "\u001b[?25hRequirement already satisfied: numpy>=1.17.3 in /usr/local/lib/python3.10/dist-packages (from scikit-learn) (1.22.4)\n",
            "Requirement already satisfied: scipy>=1.5.0 in /usr/local/lib/python3.10/dist-packages (from scikit-learn) (1.10.1)\n",
            "Requirement already satisfied: joblib>=1.1.1 in /usr/local/lib/python3.10/dist-packages (from scikit-learn) (1.3.1)\n",
            "Requirement already satisfied: threadpoolctl>=2.0.0 in /usr/local/lib/python3.10/dist-packages (from scikit-learn) (3.1.0)\n",
            "Installing collected packages: scikit-learn\n",
            "  Attempting uninstall: scikit-learn\n",
            "    Found existing installation: scikit-learn 1.2.2\n",
            "    Uninstalling scikit-learn-1.2.2:\n",
            "      Successfully uninstalled scikit-learn-1.2.2\n",
            "Successfully installed scikit-learn-1.3.0\n"
          ]
        }
      ]
    },
    {
      "cell_type": "code",
      "execution_count": 11,
      "metadata": {
        "id": "y9T7H5Cdw98_",
        "outputId": "5b4d5c77-1fa4-49f0-d3b6-f9b282ccf013",
        "colab": {
          "base_uri": "https://localhost:8080/",
          "height": 726
        }
      },
      "outputs": [
        {
          "output_type": "stream",
          "name": "stdout",
          "text": [
            "Feature importances: [0. 1.]\n"
          ]
        },
        {
          "output_type": "execute_result",
          "data": {
            "image/svg+xml": "<?xml version=\"1.0\" encoding=\"UTF-8\" standalone=\"no\"?>\n<!DOCTYPE svg PUBLIC \"-//W3C//DTD SVG 1.1//EN\"\n \"http://www.w3.org/Graphics/SVG/1.1/DTD/svg11.dtd\">\n<!-- Generated by graphviz version 2.43.0 (0)\n -->\n<!-- Title: Tree Pages: 1 -->\n<svg width=\"294pt\" height=\"224pt\"\n viewBox=\"0.00 0.00 294.00 224.00\" xmlns=\"http://www.w3.org/2000/svg\" xmlns:xlink=\"http://www.w3.org/1999/xlink\">\n<g id=\"graph0\" class=\"graph\" transform=\"scale(1 1) rotate(0) translate(4 220)\">\n<title>Tree</title>\n<polygon fill=\"white\" stroke=\"transparent\" points=\"-4,4 -4,-220 290,-220 290,4 -4,4\"/>\n<!-- 0 -->\n<g id=\"node1\" class=\"node\">\n<title>0</title>\n<polygon fill=\"#ffffff\" stroke=\"black\" points=\"168,-216 58,-216 58,-163 168,-163 168,-216\"/>\n<text text-anchor=\"middle\" x=\"113\" y=\"-200.8\" font-family=\"Helvetica,sans-Serif\" font-size=\"14.00\">x[1] &lt;= &#45;5.814</text>\n<text text-anchor=\"middle\" x=\"113\" y=\"-185.8\" font-family=\"Helvetica,sans-Serif\" font-size=\"14.00\">samples = 100</text>\n<text text-anchor=\"middle\" x=\"113\" y=\"-170.8\" font-family=\"Helvetica,sans-Serif\" font-size=\"14.00\">value = [50, 50]</text>\n</g>\n<!-- 1 -->\n<g id=\"node2\" class=\"node\">\n<title>1</title>\n<polygon fill=\"#e58139\" stroke=\"black\" points=\"102,-119.5 0,-119.5 0,-81.5 102,-81.5 102,-119.5\"/>\n<text text-anchor=\"middle\" x=\"51\" y=\"-104.3\" font-family=\"Helvetica,sans-Serif\" font-size=\"14.00\">samples = 25</text>\n<text text-anchor=\"middle\" x=\"51\" y=\"-89.3\" font-family=\"Helvetica,sans-Serif\" font-size=\"14.00\">value = [25, 0]</text>\n</g>\n<!-- 0&#45;&gt;1 -->\n<g id=\"edge1\" class=\"edge\">\n<title>0&#45;&gt;1</title>\n<path fill=\"none\" stroke=\"black\" d=\"M94.73,-162.87C86.9,-151.87 77.75,-139.03 69.85,-127.95\"/>\n<polygon fill=\"black\" stroke=\"black\" points=\"72.49,-125.62 63.83,-119.51 66.79,-129.68 72.49,-125.62\"/>\n<text text-anchor=\"middle\" x=\"59.7\" y=\"-140.46\" font-family=\"Helvetica,sans-Serif\" font-size=\"14.00\">True</text>\n</g>\n<!-- 2 -->\n<g id=\"node3\" class=\"node\">\n<title>2</title>\n<polygon fill=\"#9ccef2\" stroke=\"black\" points=\"230,-127 120,-127 120,-74 230,-74 230,-127\"/>\n<text text-anchor=\"middle\" x=\"175\" y=\"-111.8\" font-family=\"Helvetica,sans-Serif\" font-size=\"14.00\">x[1] &lt;= 5.348</text>\n<text text-anchor=\"middle\" x=\"175\" y=\"-96.8\" font-family=\"Helvetica,sans-Serif\" font-size=\"14.00\">samples = 75</text>\n<text text-anchor=\"middle\" x=\"175\" y=\"-81.8\" font-family=\"Helvetica,sans-Serif\" font-size=\"14.00\">value = [25, 50]</text>\n</g>\n<!-- 0&#45;&gt;2 -->\n<g id=\"edge2\" class=\"edge\">\n<title>0&#45;&gt;2</title>\n<path fill=\"none\" stroke=\"black\" d=\"M131.27,-162.87C137.39,-154.27 144.32,-144.55 150.83,-135.42\"/>\n<polygon fill=\"black\" stroke=\"black\" points=\"153.7,-137.42 156.65,-127.25 148,-133.36 153.7,-137.42\"/>\n<text text-anchor=\"middle\" x=\"160.79\" y=\"-148.21\" font-family=\"Helvetica,sans-Serif\" font-size=\"14.00\">False</text>\n</g>\n<!-- 3 -->\n<g id=\"node4\" class=\"node\">\n<title>3</title>\n<polygon fill=\"#399de5\" stroke=\"black\" points=\"166,-38 64,-38 64,0 166,0 166,-38\"/>\n<text text-anchor=\"middle\" x=\"115\" y=\"-22.8\" font-family=\"Helvetica,sans-Serif\" font-size=\"14.00\">samples = 50</text>\n<text text-anchor=\"middle\" x=\"115\" y=\"-7.8\" font-family=\"Helvetica,sans-Serif\" font-size=\"14.00\">value = [0, 50]</text>\n</g>\n<!-- 2&#45;&gt;3 -->\n<g id=\"edge3\" class=\"edge\">\n<title>2&#45;&gt;3</title>\n<path fill=\"none\" stroke=\"black\" d=\"M155.69,-73.91C149.04,-65.1 141.59,-55.23 134.9,-46.36\"/>\n<polygon fill=\"black\" stroke=\"black\" points=\"137.58,-44.11 128.77,-38.24 132,-48.33 137.58,-44.11\"/>\n</g>\n<!-- 4 -->\n<g id=\"node5\" class=\"node\">\n<title>4</title>\n<polygon fill=\"#e58139\" stroke=\"black\" points=\"286,-38 184,-38 184,0 286,0 286,-38\"/>\n<text text-anchor=\"middle\" x=\"235\" y=\"-22.8\" font-family=\"Helvetica,sans-Serif\" font-size=\"14.00\">samples = 25</text>\n<text text-anchor=\"middle\" x=\"235\" y=\"-7.8\" font-family=\"Helvetica,sans-Serif\" font-size=\"14.00\">value = [25, 0]</text>\n</g>\n<!-- 2&#45;&gt;4 -->\n<g id=\"edge4\" class=\"edge\">\n<title>2&#45;&gt;4</title>\n<path fill=\"none\" stroke=\"black\" d=\"M194.31,-73.91C200.96,-65.1 208.41,-55.23 215.1,-46.36\"/>\n<polygon fill=\"black\" stroke=\"black\" points=\"218,-48.33 221.23,-38.24 212.42,-44.11 218,-48.33\"/>\n</g>\n</g>\n</svg>\n",
            "text/plain": [
              "<graphviz.sources.Source at 0x7e32925072e0>"
            ]
          },
          "metadata": {},
          "execution_count": 11
        },
        {
          "output_type": "display_data",
          "data": {
            "text/plain": [
              "<Figure size 640x480 with 1 Axes>"
            ],
            "image/png": "[encoded data removed]"
          },
          "metadata": {}
        }
      ],
      "source": [
        "import mglearn\n",
        "import matplotlib.pyplot as plt\n",
        "%matplotlib inline\n",
        "\n",
        "mglearn.plots.plot_tree_not_monotone()"
      ]
    },
    {
      "cell_type": "code",
      "execution_count": 19,
      "metadata": {
        "id": "WMuSWmjgw99D",
        "outputId": "14c9d6c1-fc35-4dbf-e0a9-c13f23824b44",
        "colab": {
          "base_uri": "https://localhost:8080/"
        }
      },
      "outputs": [
        {
          "output_type": "stream",
          "name": "stdout",
          "text": [
            "{'DESCR': '.. _breast_cancer_dataset:\\n'\n",
            "          '\\n'\n",
            "          'Breast cancer wisconsin (diagnostic) dataset\\n'\n",
            "          '--------------------------------------------\\n'\n",
            "          '\\n'\n",
            "          '**Data Set Characteristics:**\\n'\n",
            "          '\\n'\n",
            "          '    :Number of Instances: 569\\n'\n",
            "          '\\n'\n",
            "          '    :Number of Attributes: 30 numeric, predictive attributes and '\n",
            "          'the class\\n'\n",
            "          '\\n'\n",
            "          '    :Attribute Information:\\n'\n",
            "          '        - radius (mean of distances from center to points on the '\n",
            "          'perimeter)\\n'\n",
            "          '        - texture (standard deviation of gray-scale values)\\n'\n",
            "          '        - perimeter\\n'\n",
            "          '        - area\\n'\n",
            "          '        - smoothness (local variation in radius lengths)\\n'\n",
            "          '        - compactness (perimeter^2 / area - 1.0)\\n'\n",
            "          '        - concavity (severity of concave portions of the contour)\\n'\n",
            "          '        - concave points (number of concave portions of the '\n",
            "          'contour)\\n'\n",
            "          '        - symmetry\\n'\n",
            "          '        - fractal dimension (\"coastline approximation\" - 1)\\n'\n",
            "          '\\n'\n",
            "          '        The mean, standard error, and \"worst\" or largest (mean of '\n",
            "          'the three\\n'\n",
            "          '        worst/largest values) of these features were computed for '\n",
            "          'each image,\\n'\n",
            "          '        resulting in 30 features.  For instance, field 0 is Mean '\n",
            "          'Radius, field\\n'\n",
            "          '        10 is Radius SE, field 20 is Worst Radius.\\n'\n",
            "          '\\n'\n",
            "          '        - class:\\n'\n",
            "          '                - WDBC-Malignant\\n'\n",
            "          '                - WDBC-Benign\\n'\n",
            "          '\\n'\n",
            "          '    :Summary Statistics:\\n'\n",
            "          '\\n'\n",
            "          '    ===================================== ====== ======\\n'\n",
            "          '                                           Min    Max\\n'\n",
            "          '    ===================================== ====== ======\\n'\n",
            "          '    radius (mean):                        6.981  28.11\\n'\n",
            "          '    texture (mean):                       9.71   39.28\\n'\n",
            "          '    perimeter (mean):                     43.79  188.5\\n'\n",
            "          '    area (mean):                          143.5  2501.0\\n'\n",
            "          '    smoothness (mean):                    0.053  0.163\\n'\n",
            "          '    compactness (mean):                   0.019  0.345\\n'\n",
            "          '    concavity (mean):                     0.0    0.427\\n'\n",
            "          '    concave points (mean):                0.0    0.201\\n'\n",
            "          '    symmetry (mean):                      0.106  0.304\\n'\n",
            "          '    fractal dimension (mean):             0.05   0.097\\n'\n",
            "          '    radius (standard error):              0.112  2.873\\n'\n",
            "          '    texture (standard error):             0.36   4.885\\n'\n",
            "          '    perimeter (standard error):           0.757  21.98\\n'\n",
            "          '    area (standard error):                6.802  542.2\\n'\n",
            "          '    smoothness (standard error):          0.002  0.031\\n'\n",
            "          '    compactness (standard error):         0.002  0.135\\n'\n",
            "          '    concavity (standard error):           0.0    0.396\\n'\n",
            "          '    concave points (standard error):      0.0    0.053\\n'\n",
            "          '    symmetry (standard error):            0.008  0.079\\n'\n",
            "          '    fractal dimension (standard error):   0.001  0.03\\n'\n",
            "          '    radius (worst):                       7.93   36.04\\n'\n",
            "          '    texture (worst):                      12.02  49.54\\n'\n",
            "          '    perimeter (worst):                    50.41  251.2\\n'\n",
            "          '    area (worst):                         185.2  4254.0\\n'\n",
            "          '    smoothness (worst):                   0.071  0.223\\n'\n",
            "          '    compactness (worst):                  0.027  1.058\\n'\n",
            "          '    concavity (worst):                    0.0    1.252\\n'\n",
            "          '    concave points (worst):               0.0    0.291\\n'\n",
            "          '    symmetry (worst):                     0.156  0.664\\n'\n",
            "          '    fractal dimension (worst):            0.055  0.208\\n'\n",
            "          '    ===================================== ====== ======\\n'\n",
            "          '\\n'\n",
            "          '    :Missing Attribute Values: None\\n'\n",
            "          '\\n'\n",
            "          '    :Class Distribution: 212 - Malignant, 357 - Benign\\n'\n",
            "          '\\n'\n",
            "          '    :Creator:  Dr. William H. Wolberg, W. Nick Street, Olvi L. '\n",
            "          'Mangasarian\\n'\n",
            "          '\\n'\n",
            "          '    :Donor: Nick Street\\n'\n",
            "          '\\n'\n",
            "          '    :Date: November, 1995\\n'\n",
            "          '\\n'\n",
            "          'This is a copy of UCI ML Breast Cancer Wisconsin (Diagnostic) '\n",
            "          'datasets.\\n'\n",
            "          'https://goo.gl/U2Uwz2\\n'\n",
            "          '\\n'\n",
            "          'Features are computed from a digitized image of a fine needle\\n'\n",
            "          'aspirate (FNA) of a breast mass.  They describe\\n'\n",
            "          'characteristics of the cell nuclei present in the image.\\n'\n",
            "          '\\n'\n",
            "          'Separating plane described above was obtained using\\n'\n",
            "          'Multisurface Method-Tree (MSM-T) [K. P. Bennett, \"Decision Tree\\n'\n",
            "          'Construction Via Linear Programming.\" Proceedings of the 4th\\n'\n",
            "          'Midwest Artificial Intelligence and Cognitive Science Society,\\n'\n",
            "          'pp. 97-101, 1992], a classification method which uses linear\\n'\n",
            "          'programming to construct a decision tree.  Relevant features\\n'\n",
            "          'were selected using an exhaustive search in the space of 1-4\\n'\n",
            "          'features and 1-3 separating planes.\\n'\n",
            "          '\\n'\n",
            "          'The actual linear program used to obtain the separating plane\\n'\n",
            "          'in the 3-dimensional space is that described in:\\n'\n",
            "          '[K. P. Bennett and O. L. Mangasarian: \"Robust Linear\\n'\n",
            "          'Programming Discrimination of Two Linearly Inseparable Sets\",\\n'\n",
            "          'Optimization Methods and Software 1, 1992, 23-34].\\n'\n",
            "          '\\n'\n",
            "          'This database is also available through the UW CS ftp server:\\n'\n",
            "          '\\n'\n",
            "          'ftp ftp.cs.wisc.edu\\n'\n",
            "          'cd math-prog/cpo-dataset/machine-learn/WDBC/\\n'\n",
            "          '\\n'\n",
            "          '.. topic:: References\\n'\n",
            "          '\\n'\n",
            "          '   - W.N. Street, W.H. Wolberg and O.L. Mangasarian. Nuclear '\n",
            "          'feature extraction \\n'\n",
            "          '     for breast tumor diagnosis. IS&T/SPIE 1993 International '\n",
            "          'Symposium on \\n'\n",
            "          '     Electronic Imaging: Science and Technology, volume 1905, pages '\n",
            "          '861-870,\\n'\n",
            "          '     San Jose, CA, 1993.\\n'\n",
            "          '   - O.L. Mangasarian, W.N. Street and W.H. Wolberg. Breast cancer '\n",
            "          'diagnosis and \\n'\n",
            "          '     prognosis via linear programming. Operations Research, 43(4), '\n",
            "          'pages 570-577, \\n'\n",
            "          '     July-August 1995.\\n'\n",
            "          '   - W.H. Wolberg, W.N. Street, and O.L. Mangasarian. Machine '\n",
            "          'learning techniques\\n'\n",
            "          '     to diagnose breast cancer from fine-needle aspirates. Cancer '\n",
            "          'Letters 77 (1994) \\n'\n",
            "          '     163-171.',\n",
            " 'data': array([[1.799e+01, 1.038e+01, 1.228e+02, ..., 2.654e-01, 4.601e-01,\n",
            "        1.189e-01],\n",
            "       [2.057e+01, 1.777e+01, 1.329e+02, ..., 1.860e-01, 2.750e-01,\n",
            "        8.902e-02],\n",
            "       [1.969e+01, 2.125e+01, 1.300e+02, ..., 2.430e-01, 3.613e-01,\n",
            "        8.758e-02],\n",
            "       ...,\n",
            "       [1.660e+01, 2.808e+01, 1.083e+02, ..., 1.418e-01, 2.218e-01,\n",
            "        7.820e-02],\n",
            "       [2.060e+01, 2.933e+01, 1.401e+02, ..., 2.650e-01, 4.087e-01,\n",
            "        1.240e-01],\n",
            "       [7.760e+00, 2.454e+01, 4.792e+01, ..., 0.000e+00, 2.871e-01,\n",
            "        7.039e-02]]),\n",
            " 'data_module': 'sklearn.datasets.data',\n",
            " 'feature_names': array(['mean radius', 'mean texture', 'mean perimeter', 'mean area',\n",
            "       'mean smoothness', 'mean compactness', 'mean concavity',\n",
            "       'mean concave points', 'mean symmetry', 'mean fractal dimension',\n",
            "       'radius error', 'texture error', 'perimeter error', 'area error',\n",
            "       'smoothness error', 'compactness error', 'concavity error',\n",
            "       'concave points error', 'symmetry error',\n",
            "       'fractal dimension error', 'worst radius', 'worst texture',\n",
            "       'worst perimeter', 'worst area', 'worst smoothness',\n",
            "       'worst compactness', 'worst concavity', 'worst concave points',\n",
            "       'worst symmetry', 'worst fractal dimension'], dtype='<U23'),\n",
            " 'filename': 'breast_cancer.csv',\n",
            " 'frame': None,\n",
            " 'target': array([0, 0, 0, 0, 0, 0, 0, 0, 0, 0, 0, 0, 0, 0, 0, 0, 0, 0, 0, 1, 1, 1,\n",
            "       0, 0, 0, 0, 0, 0, 0, 0, 0, 0, 0, 0, 0, 0, 0, 1, 0, 0, 0, 0, 0, 0,\n",
            "       0, 0, 1, 0, 1, 1, 1, 1, 1, 0, 0, 1, 0, 0, 1, 1, 1, 1, 0, 1, 0, 0,\n",
            "       1, 1, 1, 1, 0, 1, 0, 0, 1, 0, 1, 0, 0, 1, 1, 1, 0, 0, 1, 0, 0, 0,\n",
            "       1, 1, 1, 0, 1, 1, 0, 0, 1, 1, 1, 0, 0, 1, 1, 1, 1, 0, 1, 1, 0, 1,\n",
            "       1, 1, 1, 1, 1, 1, 1, 0, 0, 0, 1, 0, 0, 1, 1, 1, 0, 0, 1, 0, 1, 0,\n",
            "       0, 1, 0, 0, 1, 1, 0, 1, 1, 0, 1, 1, 1, 1, 0, 1, 1, 1, 1, 1, 1, 1,\n",
            "       1, 1, 0, 1, 1, 1, 1, 0, 0, 1, 0, 1, 1, 0, 0, 1, 1, 0, 0, 1, 1, 1,\n",
            "       1, 0, 1, 1, 0, 0, 0, 1, 0, 1, 0, 1, 1, 1, 0, 1, 1, 0, 0, 1, 0, 0,\n",
            "       0, 0, 1, 0, 0, 0, 1, 0, 1, 0, 1, 1, 0, 1, 0, 0, 0, 0, 1, 1, 0, 0,\n",
            "       1, 1, 1, 0, 1, 1, 1, 1, 1, 0, 0, 1, 1, 0, 1, 1, 0, 0, 1, 0, 1, 1,\n",
            "       1, 1, 0, 1, 1, 1, 1, 1, 0, 1, 0, 0, 0, 0, 0, 0, 0, 0, 0, 0, 0, 0,\n",
            "       0, 0, 1, 1, 1, 1, 1, 1, 0, 1, 0, 1, 1, 0, 1, 1, 0, 1, 0, 0, 1, 1,\n",
            "       1, 1, 1, 1, 1, 1, 1, 1, 1, 1, 1, 0, 1, 1, 0, 1, 0, 1, 1, 1, 1, 1,\n",
            "       1, 1, 1, 1, 1, 1, 1, 1, 1, 0, 1, 1, 1, 0, 1, 0, 1, 1, 1, 1, 0, 0,\n",
            "       0, 1, 1, 1, 1, 0, 1, 0, 1, 0, 1, 1, 1, 0, 1, 1, 1, 1, 1, 1, 1, 0,\n",
            "       0, 0, 1, 1, 1, 1, 1, 1, 1, 1, 1, 1, 1, 0, 0, 1, 0, 0, 0, 1, 0, 0,\n",
            "       1, 1, 1, 1, 1, 0, 1, 1, 1, 1, 1, 0, 1, 1, 1, 0, 1, 1, 0, 0, 1, 1,\n",
            "       1, 1, 1, 1, 0, 1, 1, 1, 1, 1, 1, 1, 0, 1, 1, 1, 1, 1, 0, 1, 1, 0,\n",
            "       1, 1, 1, 1, 1, 1, 1, 1, 1, 1, 1, 1, 0, 1, 0, 0, 1, 0, 1, 1, 1, 1,\n",
            "       1, 0, 1, 1, 0, 1, 0, 1, 1, 0, 1, 0, 1, 1, 1, 1, 1, 1, 1, 1, 0, 0,\n",
            "       1, 1, 1, 1, 1, 1, 0, 1, 1, 1, 1, 1, 1, 1, 1, 1, 1, 0, 1, 1, 1, 1,\n",
            "       1, 1, 1, 0, 1, 0, 1, 1, 0, 1, 1, 1, 1, 1, 0, 0, 1, 0, 1, 0, 1, 1,\n",
            "       1, 1, 1, 0, 1, 1, 0, 1, 0, 1, 0, 0, 1, 1, 1, 0, 1, 1, 1, 1, 1, 1,\n",
            "       1, 1, 1, 1, 1, 0, 1, 0, 0, 1, 1, 1, 1, 1, 1, 1, 1, 1, 1, 1, 1, 1,\n",
            "       1, 1, 1, 1, 1, 1, 1, 1, 1, 1, 1, 1, 0, 0, 0, 0, 0, 0, 1]),\n",
            " 'target_names': array(['malignant', 'benign'], dtype='<U9')}\n"
          ]
        }
      ],
      "source": [
        "from re import X\n",
        "from pprint import pprint\n",
        "from sklearn.datasets import load_breast_cancer\n",
        "from sklearn.tree import DecisionTreeClassifier\n",
        "from pandas import pandas as pd\n",
        "\n",
        "cancer = load_breast_cancer()\n",
        "pprint(cancer)\n",
        "X=pd.DataFrame(cancer[\"data\"],columns=cancer[\"feature_names\"])\n",
        "y=cancer[\"target\"]"
      ]
    },
    {
      "cell_type": "markdown",
      "metadata": {
        "id": "CvBzMC2Yw99E"
      },
      "source": [
        "#### Créer et tester le modèle :\n",
        "1. Diviser les données.\n",
        "2. Instanciez le classificateur d'arbre de décision avec les paramètres par défaut.."
      ]
    },
    {
      "cell_type": "code",
      "execution_count": 22,
      "metadata": {
        "id": "a47F1KKDw99E",
        "outputId": "103fb9be-b56f-4dcb-be1d-302ecf0f1513",
        "colab": {
          "base_uri": "https://localhost:8080/",
          "height": 75
        }
      },
      "outputs": [
        {
          "output_type": "execute_result",
          "data": {
            "text/plain": [
              "DecisionTreeClassifier()"
            ],
            "text/html": [
              "<style>#sk-container-id-1 {color: black;}#sk-container-id-1 pre{padding: 0;}#sk-container-id-1 div.sk-toggleable {background-color: white;}#sk-container-id-1 label.sk-toggleable__label {cursor: pointer;display: block;width: 100%;margin-bottom: 0;padding: 0.3em;box-sizing: border-box;text-align: center;}#sk-container-id-1 label.sk-toggleable__label-arrow:before {content: \"▸\";float: left;margin-right: 0.25em;color: #696969;}#sk-container-id-1 label.sk-toggleable__label-arrow:hover:before {color: black;}#sk-container-id-1 div.sk-estimator:hover label.sk-toggleable__label-arrow:before {color: black;}#sk-container-id-1 div.sk-toggleable__content {max-height: 0;max-width: 0;overflow: hidden;text-align: left;background-color: #f0f8ff;}#sk-container-id-1 div.sk-toggleable__content pre {margin: 0.2em;color: black;border-radius: 0.25em;background-color: #f0f8ff;}#sk-container-id-1 input.sk-toggleable__control:checked~div.sk-toggleable__content {max-height: 200px;max-width: 100%;overflow: auto;}#sk-container-id-1 input.sk-toggleable__control:checked~label.sk-toggleable__label-arrow:before {content: \"▾\";}#sk-container-id-1 div.sk-estimator input.sk-toggleable__control:checked~label.sk-toggleable__label {background-color: #d4ebff;}#sk-container-id-1 div.sk-label input.sk-toggleable__control:checked~label.sk-toggleable__label {background-color: #d4ebff;}#sk-container-id-1 input.sk-hidden--visually {border: 0;clip: rect(1px 1px 1px 1px);clip: rect(1px, 1px, 1px, 1px);height: 1px;margin: -1px;overflow: hidden;padding: 0;position: absolute;width: 1px;}#sk-container-id-1 div.sk-estimator {font-family: monospace;background-color: #f0f8ff;border: 1px dotted black;border-radius: 0.25em;box-sizing: border-box;margin-bottom: 0.5em;}#sk-container-id-1 div.sk-estimator:hover {background-color: #d4ebff;}#sk-container-id-1 div.sk-parallel-item::after {content: \"\";width: 100%;border-bottom: 1px solid gray;flex-grow: 1;}#sk-container-id-1 div.sk-label:hover label.sk-toggleable__label {background-color: #d4ebff;}#sk-container-id-1 div.sk-serial::before {content: \"\";position: absolute;border-left: 1px solid gray;box-sizing: border-box;top: 0;bottom: 0;left: 50%;z-index: 0;}#sk-container-id-1 div.sk-serial {display: flex;flex-direction: column;align-items: center;background-color: white;padding-right: 0.2em;padding-left: 0.2em;position: relative;}#sk-container-id-1 div.sk-item {position: relative;z-index: 1;}#sk-container-id-1 div.sk-parallel {display: flex;align-items: stretch;justify-content: center;background-color: white;position: relative;}#sk-container-id-1 div.sk-item::before, #sk-container-id-1 div.sk-parallel-item::before {content: \"\";position: absolute;border-left: 1px solid gray;box-sizing: border-box;top: 0;bottom: 0;left: 50%;z-index: -1;}#sk-container-id-1 div.sk-parallel-item {display: flex;flex-direction: column;z-index: 1;position: relative;background-color: white;}#sk-container-id-1 div.sk-parallel-item:first-child::after {align-self: flex-end;width: 50%;}#sk-container-id-1 div.sk-parallel-item:last-child::after {align-self: flex-start;width: 50%;}#sk-container-id-1 div.sk-parallel-item:only-child::after {width: 0;}#sk-container-id-1 div.sk-dashed-wrapped {border: 1px dashed gray;margin: 0 0.4em 0.5em 0.4em;box-sizing: border-box;padding-bottom: 0.4em;background-color: white;}#sk-container-id-1 div.sk-label label {font-family: monospace;font-weight: bold;display: inline-block;line-height: 1.2em;}#sk-container-id-1 div.sk-label-container {text-align: center;}#sk-container-id-1 div.sk-container {/* jupyter's `normalize.less` sets `[hidden] { display: none; }` but bootstrap.min.css set `[hidden] { display: none !important; }` so we also need the `!important` here to be able to override the default hidden behavior on the sphinx rendered scikit-learn.org. See: https://github.com/scikit-learn/scikit-learn/issues/21755 */display: inline-block !important;position: relative;}#sk-container-id-1 div.sk-text-repr-fallback {display: none;}</style><div id=\"sk-container-id-1\" class=\"sk-top-container\"><div class=\"sk-text-repr-fallback\"><pre>DecisionTreeClassifier()</pre><b>In a Jupyter environment, please rerun this cell to show the HTML representation or trust the notebook. <br />On GitHub, the HTML representation is unable to render, please try loading this page with nbviewer.org.</b></div><div class=\"sk-container\" hidden><div class=\"sk-item\"><div class=\"sk-estimator sk-toggleable\"><input class=\"sk-toggleable__control sk-hidden--visually\" id=\"sk-estimator-id-1\" type=\"checkbox\" checked><label for=\"sk-estimator-id-1\" class=\"sk-toggleable__label sk-toggleable__label-arrow\">DecisionTreeClassifier</label><div class=\"sk-toggleable__content\"><pre>DecisionTreeClassifier()</pre></div></div></div></div></div>"
            ]
          },
          "metadata": {},
          "execution_count": 22
        }
      ],
      "source": [
        "from sklearn.model_selection import train_test_split\n",
        "cancerX_train,cancerX_test,cancery_train,cancery_test=train_test_split(X,y,train_size=0.8,random_state=101)\n",
        "tree=DecisionTreeClassifier()\n",
        "tree.fit(cancerX_train, cancery_train)\n",
        "# Fill Here"
      ]
    },
    {
      "cell_type": "markdown",
      "source": [],
      "metadata": {
        "id": "D2Huq-Q5pp10"
      }
    },
    {
      "cell_type": "markdown",
      "metadata": {
        "id": "miN5XkNbw99F"
      },
      "source": [
        "#### Evaluer le Modèle :"
      ]
    },
    {
      "cell_type": "code",
      "execution_count": 25,
      "metadata": {
        "scrolled": true,
        "id": "Cn77POXuw99G",
        "outputId": "8e813e3d-b9b4-44ac-e294-54cf57234412",
        "colab": {
          "base_uri": "https://localhost:8080/"
        }
      },
      "outputs": [
        {
          "output_type": "stream",
          "name": "stdout",
          "text": [
            "1.0\n"
          ]
        }
      ],
      "source": [
        "pprint(tree.score(cancerX_train,cancery_train))"
      ]
    },
    {
      "cell_type": "markdown",
      "metadata": {
        "id": "63HtQ_J4w99H"
      },
      "source": [
        "**Avertissement :**\n",
        "Une précision de 1,00 signifie que toutes les feuilles sont pures. La ramification de l'arbre est donc descendue jusqu'à ce que l'algorithme puisse mémoriser et ajuster toutes les étiquettes.\n",
        "jusqu'à ce que l'algorithme puisse mémoriser et ajuster toutes les étiquettes.\n",
        "Il s'agit d'un overfitting. Cela se produit parce que l'arbre de décision n'était pas limité\n",
        "et est descendu jusqu'à ce qu'il s'adapte parfaitement aux données d'apprentissage."
      ]
    },
    {
      "cell_type": "markdown",
      "metadata": {
        "id": "4uHqjT3pw99I"
      },
      "source": [
        "Pour éviter l'Overfitting, nous appliquons des restrictions pour limiter la profondeur de l'arbre de décision, ce qui à son tour va limiter sa complexité.\n",
        "\n",
        "Technique d'élagage :\n",
        "\n",
        "Il existe deux types d'élagage, pré et post.\n",
        "- Avec l'élagage précoce, nous arrêtons la création de l'arbre à un stade plus précoce. Ainsi, nous pouvons limiter :\n",
        "1. la profondeur de l'arbre,\n",
        "2. le nombre maximal de feuilles,\n",
        "3. spécifier un minimum de points pour un nœud afin de pouvoir effectuer de nouvelles divisions.\n",
        "En limitant la profondeur de l'arbre, nous limitons le nombre de questions pouvant être posées.\n",
        "\n",
        "- Avec l'élagage postérieur, une fois l'arbre créé, nous pouvons supprimer les branches ou nœuds non pertinents qui contiennent peu d'informations."
      ]
    },
    {
      "cell_type": "markdown",
      "metadata": {
        "id": "2q03OGj8w99J"
      },
      "source": [
        "#### Essayons d'améliorer la précision avec du fine tuning : (max_depth) :"
      ]
    },
    {
      "cell_type": "code",
      "execution_count": 27,
      "metadata": {
        "scrolled": true,
        "id": "IVI_SrCfw99J",
        "outputId": "5d87282c-ff49-466b-ea0d-a29c810d9963",
        "colab": {
          "base_uri": "https://localhost:8080/"
        }
      },
      "outputs": [
        {
          "output_type": "stream",
          "name": "stdout",
          "text": [
            "max_depth 1 score 0.9230769230769231\n",
            "max_depth 2 score 0.9582417582417583\n",
            "max_depth 3 score 0.9692307692307692\n",
            "max_depth 4 score 0.9824175824175824\n",
            "max_depth 5 score 0.989010989010989\n",
            "max_depth 6 score 0.9978021978021978\n",
            "max_depth 7 score 1.0\n",
            "max_depth 8 score 1.0\n",
            "max_depth 9 score 1.0\n"
          ]
        }
      ],
      "source": [
        "# Fill here\n",
        "\n",
        "# It should increases the accuracy over the test data.\n",
        "for depth in range(1,10):\n",
        "  tree=DecisionTreeClassifier(max_depth=depth)\n",
        "  tree.fit(cancerX_train, cancery_train)\n",
        "  print(f\"max_depth {depth} score {tree.score(cancerX_train,cancery_train)}\")"
      ]
    },
    {
      "cell_type": "markdown",
      "metadata": {
        "id": "1hbduq5cw99J"
      },
      "source": [
        "!#### Evaluer l'Algorithme :"
      ]
    },
    {
      "cell_type": "code",
      "execution_count": 30,
      "metadata": {
        "id": "bEXBYtECw99K",
        "outputId": "7a4861c5-71fb-4c12-ff01-3da87df33ff9",
        "colab": {
          "base_uri": "https://localhost:8080/"
        }
      },
      "outputs": [
        {
          "output_type": "stream",
          "name": "stdout",
          "text": [
            "0.9978021978021978\n"
          ]
        }
      ],
      "source": [
        "  tree=DecisionTreeClassifier(max_depth=6)\n",
        "  tree.fit(cancerX_train, cancery_train)\n",
        "  pprint(tree.score(cancerX_train,cancery_train))"
      ]
    },
    {
      "cell_type": "code",
      "execution_count": 34,
      "metadata": {
        "id": "0Hd_bu12w99K"
      },
      "outputs": [],
      "source": [
        "import graphviz\n",
        "from sklearn.tree import export_graphviz\n",
        "\n",
        "export_graphviz(tree, out_file='cancertree.dot', class_names=['malignant', 'benign'], feature_names=cancer.feature_names,\n",
        "               impurity=False, filled=True)"
      ]
    },
    {
      "cell_type": "code",
      "source": [
        "!dot -Tpng cancertree.dot -o cancertree.png"
      ],
      "metadata": {
        "id": "JsAKMO8or94J"
      },
      "execution_count": 36,
      "outputs": []
    },
    {
      "cell_type": "markdown",
      "metadata": {
        "id": "9-PuWhA9w99K"
      },
      "source": [
        "### Transformer .dot à .png\n",
        "```\n",
        "!dot -Tpng cancertree.dot -o cancertree.png\n",
        "```\n",
        "- Le rayon de la tumeur se trouve au sommet de l'arbre, ce qui nous amène à réfléchir à l'importance de cette caractéristique."
      ]
    },
    {
      "cell_type": "markdown",
      "metadata": {
        "id": "JcoMHeKPw99L"
      },
      "source": [
        "![](https://github.com/kplr-training/Machine-Learning/blob/main/01-SUPERVISED/02.CLASSIFICATION/cancertree.png?raw=1)\n",
        "\n",
        "![](https://github.com/kplr-training/Machine-Learning/blob/main/01-SUPERVISED/02.CLASSIFICATION/cancertree_all.png?raw=1)"
      ]
    },
    {
      "cell_type": "markdown",
      "metadata": {
        "id": "UO_qedwDw99L"
      },
      "source": [
        "- Nous pouvons utiliser une propriété de l'arbre de décision appelée importance des caractéristiques \"feature importances\".\n",
        "- Elle nous indique le poids de chaque caractéristique dans la prise de décision.\n",
        "- Ainsi, chaque caractéristique\n",
        "i attribue zéro et un.\n",
        "- 0 signifie que la caractéristique n'est pas utilisée dans le processus de décision\n",
        "tandis que 1 signifie qu'elle prédit parfaitement la cible 'target'."
      ]
    },
    {
      "cell_type": "code",
      "execution_count": 37,
      "metadata": {
        "id": "yzoKE-hyw99L",
        "outputId": "0ff455b8-76c9-436b-bdbc-e476456a5f27",
        "colab": {
          "base_uri": "https://localhost:8080/"
        }
      },
      "outputs": [
        {
          "output_type": "stream",
          "name": "stdout",
          "text": [
            "('Feature importances: [0.         0.         0.         0.00721895 0.01421231 '\n",
            " '0.\\n'\n",
            " ' 0.01421231 0.         0.         0.         0.01416753 0.\\n'\n",
            " ' 0.         0.01444338 0.         0.         0.         0.\\n'\n",
            " ' 0.00852738 0.04007407 0.03755538 0.01331037 0.         0.10205645\\n'\n",
            " ' 0.         0.         0.01658102 0.71764086 0.         0.        ]')\n"
          ]
        }
      ],
      "source": [
        "pprint(\"Feature importances: {}\".format(tree.feature_importances_))"
      ]
    },
    {
      "cell_type": "code",
      "execution_count": 33,
      "metadata": {
        "id": "JhITOI4Ow99M",
        "outputId": "c00f8913-aa08-4029-c80b-a5c57e92ea32",
        "colab": {
          "base_uri": "https://localhost:8080/"
        }
      },
      "outputs": [
        {
          "output_type": "stream",
          "name": "stdout",
          "text": [
            "['mean radius' 'mean texture' 'mean perimeter' 'mean area'\n",
            " 'mean smoothness' 'mean compactness' 'mean concavity'\n",
            " 'mean concave points' 'mean symmetry' 'mean fractal dimension'\n",
            " 'radius error' 'texture error' 'perimeter error' 'area error'\n",
            " 'smoothness error' 'compactness error' 'concavity error'\n",
            " 'concave points error' 'symmetry error' 'fractal dimension error'\n",
            " 'worst radius' 'worst texture' 'worst perimeter' 'worst area'\n",
            " 'worst smoothness' 'worst compactness' 'worst concavity'\n",
            " 'worst concave points' 'worst symmetry' 'worst fractal dimension']\n"
          ]
        }
      ],
      "source": [
        "print(cancer.feature_names)"
      ]
    },
    {
      "cell_type": "markdown",
      "metadata": {
        "id": "1MP0WMdEw99M"
      },
      "source": [
        "#### Une meilleure façon de procéder :\n",
        "- Nous pouvons voir que la caractéristique la plus importante est le 'worst radius', qui se trouve, comme nous l'avons vu précédemment, au sommet de l'arbre."
      ]
    },
    {
      "cell_type": "code",
      "execution_count": 38,
      "metadata": {
        "id": "1dq05Mtaw99M",
        "outputId": "535f5823-d796-4a02-a7ef-ef027606f495",
        "colab": {
          "base_uri": "https://localhost:8080/",
          "height": 449
        }
      },
      "outputs": [
        {
          "output_type": "display_data",
          "data": {
            "text/plain": [
              "<Figure size 640x480 with 1 Axes>"
            ],
            "image/png": "[encoded data removed]"
          },
          "metadata": {}
        }
      ],
      "source": [
        "import numpy as np\n",
        "\n",
        "n_features = cancer.data.shape[1]\n",
        "plt.barh(range(n_features), tree.feature_importances_, align='center')\n",
        "plt.yticks(np.arange(n_features), cancer.feature_names)\n",
        "plt.xlabel('Feature Importance')\n",
        "plt.ylabel('Feature')\n",
        "plt.show()"
      ]
    },
    {
      "cell_type": "markdown",
      "metadata": {
        "id": "TEnky4CFw99N"
      },
      "source": [
        "### Avantages des arbres de décision\n",
        "\n",
        " - Facile à visualiser et à comprendre.\n",
        " - Contrairement à d'autres algorithmes de classification par apprentissage automatique, il n'est pas nécessaire de prétraiter, de normaliser, de mettre à l'échelle et/ou de standardiser les caractéristiques.\n",
        "\n",
        "### Paramètres à utiliser\n",
        "\n",
        " - max_depth,\n",
        " - min_samples_leaf, max_samples_leaf,\n",
        " - max_leaf_nodes,\n",
        " - etc.\n",
        "\n",
        "### Principaux inconvénients\n",
        "\n",
        "- Tendance à l'overfitting, même si l'on crée un arbre d'élagage.\n",
        "- Mauvaise généralisation.\n",
        "\n",
        "##### => Contournement possible : de nombreux parittioners d'apprentissage automatique utilisent des ensembles d'arbres de décision."
      ]
    }
  ],
  "metadata": {
    "kernelspec": {
      "display_name": "Python 3",
      "language": "python",
      "name": "python3"
    },
    "language_info": {
      "codemirror_mode": {
        "name": "ipython",
        "version": 3
      },
      "file_extension": ".py",
      "mimetype": "text/x-python",
      "name": "python",
      "nbconvert_exporter": "python",
      "pygments_lexer": "ipython3",
      "version": "3.6.8"
    },
    "colab": {
      "provenance": [],
      "include_colab_link": true
    }
  },
  "nbformat": 4,
  "nbformat_minor": 0
}