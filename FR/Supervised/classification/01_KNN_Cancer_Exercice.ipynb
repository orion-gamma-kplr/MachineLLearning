{
  "cells": [
    {
      "cell_type": "markdown",
      "metadata": {
        "id": "view-in-github",
        "colab_type": "text"
      },
      "source": [
        "<a href=\"https://colab.research.google.com/github/orion-gamma-kplr/MachineLLearning/blob/main/FR/Supervised/classification/01_KNN_Cancer_Exercice.ipynb\" target=\"_parent\"><img src=\"https://colab.research.google.com/assets/colab-badge.svg\" alt=\"Open In Colab\"/></a>"
      ]
    },
    {
      "cell_type": "markdown",
      "metadata": {
        "id": "yL5fB0wQGQkh"
      },
      "source": [
        "## <center> KNN Classifier : K-nearest-neighbors </center>\n",
        "C'est l'un des algorithmes les plus simples pour commencer.\n",
        "Le classificateur recherche les K points les plus proches. K définit le nombre de points voisins utilisés pour prendre une décision. Par défaut, il utilise 5 K points pour prendre une décision.\n",
        "\n",
        "Cet algorithme est simple, mais il ne fonctionne pas très bien avec des ensembles de données comportant des centaines de features, car il devient très lent.\n",
        "\n",
        "https://scikit-learn.org/stable/modules/generated/sklearn.neighbors.KNeighborsClassifier.html"
      ]
    },
    {
      "cell_type": "markdown",
      "metadata": {
        "id": "3xGcg-jyGQkl"
      },
      "source": [
        "### Installer le module scikit learn\n",
        "```\n",
        "sudo pip3 install -U scikit-learn\n",
        "```\n",
        "\n",
        "### Installer le module matplotlib\n",
        "```\n",
        "sudo pip3 install -U matplotlib\n",
        "```"
      ]
    },
    {
      "cell_type": "code",
      "execution_count": 1,
      "metadata": {
        "id": "l6pfX7q0GQkm"
      },
      "outputs": [],
      "source": [
        "from sklearn.datasets import load_breast_cancer\n",
        "from sklearn.neighbors import KNeighborsClassifier\n",
        "\n",
        "import matplotlib.pyplot as plt\n",
        "%matplotlib inline"
      ]
    },
    {
      "cell_type": "code",
      "execution_count": 4,
      "metadata": {
        "id": "YY6tTSlbGQkn",
        "colab": {
          "base_uri": "https://localhost:8080/"
        },
        "outputId": "ac3f83e2-070d-463d-dfd6-0cd3df68719b"
      },
      "outputs": [
        {
          "output_type": "stream",
          "name": "stdout",
          "text": [
            "{'DESCR': '.. _breast_cancer_dataset:\\n'\n",
            "          '\\n'\n",
            "          'Breast cancer wisconsin (diagnostic) dataset\\n'\n",
            "          '--------------------------------------------\\n'\n",
            "          '\\n'\n",
            "          '**Data Set Characteristics:**\\n'\n",
            "          '\\n'\n",
            "          '    :Number of Instances: 569\\n'\n",
            "          '\\n'\n",
            "          '    :Number of Attributes: 30 numeric, predictive attributes and '\n",
            "          'the class\\n'\n",
            "          '\\n'\n",
            "          '    :Attribute Information:\\n'\n",
            "          '        - radius (mean of distances from center to points on the '\n",
            "          'perimeter)\\n'\n",
            "          '        - texture (standard deviation of gray-scale values)\\n'\n",
            "          '        - perimeter\\n'\n",
            "          '        - area\\n'\n",
            "          '        - smoothness (local variation in radius lengths)\\n'\n",
            "          '        - compactness (perimeter^2 / area - 1.0)\\n'\n",
            "          '        - concavity (severity of concave portions of the contour)\\n'\n",
            "          '        - concave points (number of concave portions of the '\n",
            "          'contour)\\n'\n",
            "          '        - symmetry\\n'\n",
            "          '        - fractal dimension (\"coastline approximation\" - 1)\\n'\n",
            "          '\\n'\n",
            "          '        The mean, standard error, and \"worst\" or largest (mean of '\n",
            "          'the three\\n'\n",
            "          '        worst/largest values) of these features were computed for '\n",
            "          'each image,\\n'\n",
            "          '        resulting in 30 features.  For instance, field 0 is Mean '\n",
            "          'Radius, field\\n'\n",
            "          '        10 is Radius SE, field 20 is Worst Radius.\\n'\n",
            "          '\\n'\n",
            "          '        - class:\\n'\n",
            "          '                - WDBC-Malignant\\n'\n",
            "          '                - WDBC-Benign\\n'\n",
            "          '\\n'\n",
            "          '    :Summary Statistics:\\n'\n",
            "          '\\n'\n",
            "          '    ===================================== ====== ======\\n'\n",
            "          '                                           Min    Max\\n'\n",
            "          '    ===================================== ====== ======\\n'\n",
            "          '    radius (mean):                        6.981  28.11\\n'\n",
            "          '    texture (mean):                       9.71   39.28\\n'\n",
            "          '    perimeter (mean):                     43.79  188.5\\n'\n",
            "          '    area (mean):                          143.5  2501.0\\n'\n",
            "          '    smoothness (mean):                    0.053  0.163\\n'\n",
            "          '    compactness (mean):                   0.019  0.345\\n'\n",
            "          '    concavity (mean):                     0.0    0.427\\n'\n",
            "          '    concave points (mean):                0.0    0.201\\n'\n",
            "          '    symmetry (mean):                      0.106  0.304\\n'\n",
            "          '    fractal dimension (mean):             0.05   0.097\\n'\n",
            "          '    radius (standard error):              0.112  2.873\\n'\n",
            "          '    texture (standard error):             0.36   4.885\\n'\n",
            "          '    perimeter (standard error):           0.757  21.98\\n'\n",
            "          '    area (standard error):                6.802  542.2\\n'\n",
            "          '    smoothness (standard error):          0.002  0.031\\n'\n",
            "          '    compactness (standard error):         0.002  0.135\\n'\n",
            "          '    concavity (standard error):           0.0    0.396\\n'\n",
            "          '    concave points (standard error):      0.0    0.053\\n'\n",
            "          '    symmetry (standard error):            0.008  0.079\\n'\n",
            "          '    fractal dimension (standard error):   0.001  0.03\\n'\n",
            "          '    radius (worst):                       7.93   36.04\\n'\n",
            "          '    texture (worst):                      12.02  49.54\\n'\n",
            "          '    perimeter (worst):                    50.41  251.2\\n'\n",
            "          '    area (worst):                         185.2  4254.0\\n'\n",
            "          '    smoothness (worst):                   0.071  0.223\\n'\n",
            "          '    compactness (worst):                  0.027  1.058\\n'\n",
            "          '    concavity (worst):                    0.0    1.252\\n'\n",
            "          '    concave points (worst):               0.0    0.291\\n'\n",
            "          '    symmetry (worst):                     0.156  0.664\\n'\n",
            "          '    fractal dimension (worst):            0.055  0.208\\n'\n",
            "          '    ===================================== ====== ======\\n'\n",
            "          '\\n'\n",
            "          '    :Missing Attribute Values: None\\n'\n",
            "          '\\n'\n",
            "          '    :Class Distribution: 212 - Malignant, 357 - Benign\\n'\n",
            "          '\\n'\n",
            "          '    :Creator:  Dr. William H. Wolberg, W. Nick Street, Olvi L. '\n",
            "          'Mangasarian\\n'\n",
            "          '\\n'\n",
            "          '    :Donor: Nick Street\\n'\n",
            "          '\\n'\n",
            "          '    :Date: November, 1995\\n'\n",
            "          '\\n'\n",
            "          'This is a copy of UCI ML Breast Cancer Wisconsin (Diagnostic) '\n",
            "          'datasets.\\n'\n",
            "          'https://goo.gl/U2Uwz2\\n'\n",
            "          '\\n'\n",
            "          'Features are computed from a digitized image of a fine needle\\n'\n",
            "          'aspirate (FNA) of a breast mass.  They describe\\n'\n",
            "          'characteristics of the cell nuclei present in the image.\\n'\n",
            "          '\\n'\n",
            "          'Separating plane described above was obtained using\\n'\n",
            "          'Multisurface Method-Tree (MSM-T) [K. P. Bennett, \"Decision Tree\\n'\n",
            "          'Construction Via Linear Programming.\" Proceedings of the 4th\\n'\n",
            "          'Midwest Artificial Intelligence and Cognitive Science Society,\\n'\n",
            "          'pp. 97-101, 1992], a classification method which uses linear\\n'\n",
            "          'programming to construct a decision tree.  Relevant features\\n'\n",
            "          'were selected using an exhaustive search in the space of 1-4\\n'\n",
            "          'features and 1-3 separating planes.\\n'\n",
            "          '\\n'\n",
            "          'The actual linear program used to obtain the separating plane\\n'\n",
            "          'in the 3-dimensional space is that described in:\\n'\n",
            "          '[K. P. Bennett and O. L. Mangasarian: \"Robust Linear\\n'\n",
            "          'Programming Discrimination of Two Linearly Inseparable Sets\",\\n'\n",
            "          'Optimization Methods and Software 1, 1992, 23-34].\\n'\n",
            "          '\\n'\n",
            "          'This database is also available through the UW CS ftp server:\\n'\n",
            "          '\\n'\n",
            "          'ftp ftp.cs.wisc.edu\\n'\n",
            "          'cd math-prog/cpo-dataset/machine-learn/WDBC/\\n'\n",
            "          '\\n'\n",
            "          '.. topic:: References\\n'\n",
            "          '\\n'\n",
            "          '   - W.N. Street, W.H. Wolberg and O.L. Mangasarian. Nuclear '\n",
            "          'feature extraction \\n'\n",
            "          '     for breast tumor diagnosis. IS&T/SPIE 1993 International '\n",
            "          'Symposium on \\n'\n",
            "          '     Electronic Imaging: Science and Technology, volume 1905, pages '\n",
            "          '861-870,\\n'\n",
            "          '     San Jose, CA, 1993.\\n'\n",
            "          '   - O.L. Mangasarian, W.N. Street and W.H. Wolberg. Breast cancer '\n",
            "          'diagnosis and \\n'\n",
            "          '     prognosis via linear programming. Operations Research, 43(4), '\n",
            "          'pages 570-577, \\n'\n",
            "          '     July-August 1995.\\n'\n",
            "          '   - W.H. Wolberg, W.N. Street, and O.L. Mangasarian. Machine '\n",
            "          'learning techniques\\n'\n",
            "          '     to diagnose breast cancer from fine-needle aspirates. Cancer '\n",
            "          'Letters 77 (1994) \\n'\n",
            "          '     163-171.',\n",
            " 'data': array([[1.799e+01, 1.038e+01, 1.228e+02, ..., 2.654e-01, 4.601e-01,\n",
            "        1.189e-01],\n",
            "       [2.057e+01, 1.777e+01, 1.329e+02, ..., 1.860e-01, 2.750e-01,\n",
            "        8.902e-02],\n",
            "       [1.969e+01, 2.125e+01, 1.300e+02, ..., 2.430e-01, 3.613e-01,\n",
            "        8.758e-02],\n",
            "       ...,\n",
            "       [1.660e+01, 2.808e+01, 1.083e+02, ..., 1.418e-01, 2.218e-01,\n",
            "        7.820e-02],\n",
            "       [2.060e+01, 2.933e+01, 1.401e+02, ..., 2.650e-01, 4.087e-01,\n",
            "        1.240e-01],\n",
            "       [7.760e+00, 2.454e+01, 4.792e+01, ..., 0.000e+00, 2.871e-01,\n",
            "        7.039e-02]]),\n",
            " 'data_module': 'sklearn.datasets.data',\n",
            " 'feature_names': array(['mean radius', 'mean texture', 'mean perimeter', 'mean area',\n",
            "       'mean smoothness', 'mean compactness', 'mean concavity',\n",
            "       'mean concave points', 'mean symmetry', 'mean fractal dimension',\n",
            "       'radius error', 'texture error', 'perimeter error', 'area error',\n",
            "       'smoothness error', 'compactness error', 'concavity error',\n",
            "       'concave points error', 'symmetry error',\n",
            "       'fractal dimension error', 'worst radius', 'worst texture',\n",
            "       'worst perimeter', 'worst area', 'worst smoothness',\n",
            "       'worst compactness', 'worst concavity', 'worst concave points',\n",
            "       'worst symmetry', 'worst fractal dimension'], dtype='<U23'),\n",
            " 'filename': 'breast_cancer.csv',\n",
            " 'frame': None,\n",
            " 'target': array([0, 0, 0, 0, 0, 0, 0, 0, 0, 0, 0, 0, 0, 0, 0, 0, 0, 0, 0, 1, 1, 1,\n",
            "       0, 0, 0, 0, 0, 0, 0, 0, 0, 0, 0, 0, 0, 0, 0, 1, 0, 0, 0, 0, 0, 0,\n",
            "       0, 0, 1, 0, 1, 1, 1, 1, 1, 0, 0, 1, 0, 0, 1, 1, 1, 1, 0, 1, 0, 0,\n",
            "       1, 1, 1, 1, 0, 1, 0, 0, 1, 0, 1, 0, 0, 1, 1, 1, 0, 0, 1, 0, 0, 0,\n",
            "       1, 1, 1, 0, 1, 1, 0, 0, 1, 1, 1, 0, 0, 1, 1, 1, 1, 0, 1, 1, 0, 1,\n",
            "       1, 1, 1, 1, 1, 1, 1, 0, 0, 0, 1, 0, 0, 1, 1, 1, 0, 0, 1, 0, 1, 0,\n",
            "       0, 1, 0, 0, 1, 1, 0, 1, 1, 0, 1, 1, 1, 1, 0, 1, 1, 1, 1, 1, 1, 1,\n",
            "       1, 1, 0, 1, 1, 1, 1, 0, 0, 1, 0, 1, 1, 0, 0, 1, 1, 0, 0, 1, 1, 1,\n",
            "       1, 0, 1, 1, 0, 0, 0, 1, 0, 1, 0, 1, 1, 1, 0, 1, 1, 0, 0, 1, 0, 0,\n",
            "       0, 0, 1, 0, 0, 0, 1, 0, 1, 0, 1, 1, 0, 1, 0, 0, 0, 0, 1, 1, 0, 0,\n",
            "       1, 1, 1, 0, 1, 1, 1, 1, 1, 0, 0, 1, 1, 0, 1, 1, 0, 0, 1, 0, 1, 1,\n",
            "       1, 1, 0, 1, 1, 1, 1, 1, 0, 1, 0, 0, 0, 0, 0, 0, 0, 0, 0, 0, 0, 0,\n",
            "       0, 0, 1, 1, 1, 1, 1, 1, 0, 1, 0, 1, 1, 0, 1, 1, 0, 1, 0, 0, 1, 1,\n",
            "       1, 1, 1, 1, 1, 1, 1, 1, 1, 1, 1, 0, 1, 1, 0, 1, 0, 1, 1, 1, 1, 1,\n",
            "       1, 1, 1, 1, 1, 1, 1, 1, 1, 0, 1, 1, 1, 0, 1, 0, 1, 1, 1, 1, 0, 0,\n",
            "       0, 1, 1, 1, 1, 0, 1, 0, 1, 0, 1, 1, 1, 0, 1, 1, 1, 1, 1, 1, 1, 0,\n",
            "       0, 0, 1, 1, 1, 1, 1, 1, 1, 1, 1, 1, 1, 0, 0, 1, 0, 0, 0, 1, 0, 0,\n",
            "       1, 1, 1, 1, 1, 0, 1, 1, 1, 1, 1, 0, 1, 1, 1, 0, 1, 1, 0, 0, 1, 1,\n",
            "       1, 1, 1, 1, 0, 1, 1, 1, 1, 1, 1, 1, 0, 1, 1, 1, 1, 1, 0, 1, 1, 0,\n",
            "       1, 1, 1, 1, 1, 1, 1, 1, 1, 1, 1, 1, 0, 1, 0, 0, 1, 0, 1, 1, 1, 1,\n",
            "       1, 0, 1, 1, 0, 1, 0, 1, 1, 0, 1, 0, 1, 1, 1, 1, 1, 1, 1, 1, 0, 0,\n",
            "       1, 1, 1, 1, 1, 1, 0, 1, 1, 1, 1, 1, 1, 1, 1, 1, 1, 0, 1, 1, 1, 1,\n",
            "       1, 1, 1, 0, 1, 0, 1, 1, 0, 1, 1, 1, 1, 1, 0, 0, 1, 0, 1, 0, 1, 1,\n",
            "       1, 1, 1, 0, 1, 1, 0, 1, 0, 1, 0, 0, 1, 1, 1, 0, 1, 1, 1, 1, 1, 1,\n",
            "       1, 1, 1, 1, 1, 0, 1, 0, 0, 1, 1, 1, 1, 1, 1, 1, 1, 1, 1, 1, 1, 1,\n",
            "       1, 1, 1, 1, 1, 1, 1, 1, 1, 1, 1, 1, 0, 0, 0, 0, 0, 0, 1]),\n",
            " 'target_names': array(['malignant', 'benign'], dtype='<U9')}\n"
          ]
        }
      ],
      "source": [
        "from pprint import pprint\n",
        "cancer = load_breast_cancer()\n",
        "pprint (cancer)"
      ]
    },
    {
      "cell_type": "markdown",
      "metadata": {
        "id": "Cz85UvoXGQkn"
      },
      "source": [
        "### Installer le module mg-learn\n",
        "```\n",
        "sudo pip3 install mglearn\n",
        "```"
      ]
    },
    {
      "cell_type": "code",
      "execution_count": 5,
      "metadata": {
        "id": "HE1v2tyVGQko",
        "outputId": "f99ca0ba-ad54-44e9-bc89-7d77cb118105",
        "colab": {
          "base_uri": "https://localhost:8080/"
        }
      },
      "outputs": [
        {
          "output_type": "stream",
          "name": "stdout",
          "text": [
            "/usr/bin/python3\n"
          ]
        }
      ],
      "source": [
        "import sys\n",
        "print(sys.executable)"
      ]
    },
    {
      "cell_type": "markdown",
      "metadata": {
        "id": "Htu7q2jaGQkp"
      },
      "source": [
        "#### Install a pip package in the current Jupyter kernel"
      ]
    },
    {
      "cell_type": "code",
      "execution_count": 6,
      "metadata": {
        "id": "SPKDi88KGQkp",
        "colab": {
          "base_uri": "https://localhost:8080/"
        },
        "outputId": "db236237-a88d-4a77-aba2-9eecfb605472"
      },
      "outputs": [
        {
          "output_type": "stream",
          "name": "stdout",
          "text": [
            "Collecting mglearn\n",
            "  Downloading mglearn-0.2.0-py2.py3-none-any.whl (581 kB)\n",
            "\u001b[?25l     \u001b[90m━━━━━━━━━━━━━━━━━━━━━━━━━━━━━━━━━━━━━━━━\u001b[0m \u001b[32m0.0/581.4 kB\u001b[0m \u001b[31m?\u001b[0m eta \u001b[36m-:--:--\u001b[0m\r\u001b[2K     \u001b[91m━━━━━━━━━━━━━━━━━━━━━━━━━━━━━━━━━━━━━\u001b[0m\u001b[90m╺\u001b[0m \u001b[32m573.4/581.4 kB\u001b[0m \u001b[31m20.1 MB/s\u001b[0m eta \u001b[36m0:00:01\u001b[0m\r\u001b[2K     \u001b[90m━━━━━━━━━━━━━━━━━━━━━━━━━━━━━━━━━━━━━━\u001b[0m \u001b[32m581.4/581.4 kB\u001b[0m \u001b[31m14.4 MB/s\u001b[0m eta \u001b[36m0:00:00\u001b[0m\n",
            "\u001b[?25hRequirement already satisfied: numpy in /usr/local/lib/python3.10/dist-packages (from mglearn) (1.22.4)\n",
            "Requirement already satisfied: matplotlib in /usr/local/lib/python3.10/dist-packages (from mglearn) (3.7.1)\n",
            "Requirement already satisfied: scikit-learn in /usr/local/lib/python3.10/dist-packages (from mglearn) (1.2.2)\n",
            "Requirement already satisfied: pandas in /usr/local/lib/python3.10/dist-packages (from mglearn) (1.5.3)\n",
            "Requirement already satisfied: pillow in /usr/local/lib/python3.10/dist-packages (from mglearn) (8.4.0)\n",
            "Requirement already satisfied: cycler in /usr/local/lib/python3.10/dist-packages (from mglearn) (0.11.0)\n",
            "Requirement already satisfied: imageio in /usr/local/lib/python3.10/dist-packages (from mglearn) (2.25.1)\n",
            "Requirement already satisfied: joblib in /usr/local/lib/python3.10/dist-packages (from mglearn) (1.3.1)\n",
            "Requirement already satisfied: contourpy>=1.0.1 in /usr/local/lib/python3.10/dist-packages (from matplotlib->mglearn) (1.1.0)\n",
            "Requirement already satisfied: fonttools>=4.22.0 in /usr/local/lib/python3.10/dist-packages (from matplotlib->mglearn) (4.41.0)\n",
            "Requirement already satisfied: kiwisolver>=1.0.1 in /usr/local/lib/python3.10/dist-packages (from matplotlib->mglearn) (1.4.4)\n",
            "Requirement already satisfied: packaging>=20.0 in /usr/local/lib/python3.10/dist-packages (from matplotlib->mglearn) (23.1)\n",
            "Requirement already satisfied: pyparsing>=2.3.1 in /usr/local/lib/python3.10/dist-packages (from matplotlib->mglearn) (3.1.0)\n",
            "Requirement already satisfied: python-dateutil>=2.7 in /usr/local/lib/python3.10/dist-packages (from matplotlib->mglearn) (2.8.2)\n",
            "Requirement already satisfied: pytz>=2020.1 in /usr/local/lib/python3.10/dist-packages (from pandas->mglearn) (2022.7.1)\n",
            "Requirement already satisfied: scipy>=1.3.2 in /usr/local/lib/python3.10/dist-packages (from scikit-learn->mglearn) (1.10.1)\n",
            "Requirement already satisfied: threadpoolctl>=2.0.0 in /usr/local/lib/python3.10/dist-packages (from scikit-learn->mglearn) (3.1.0)\n",
            "Requirement already satisfied: six>=1.5 in /usr/local/lib/python3.10/dist-packages (from python-dateutil>=2.7->matplotlib->mglearn) (1.16.0)\n",
            "Installing collected packages: mglearn\n",
            "Successfully installed mglearn-0.2.0\n"
          ]
        }
      ],
      "source": [
        "import sys\n",
        "!{sys.executable} -m pip install mglearn"
      ]
    },
    {
      "cell_type": "markdown",
      "metadata": {
        "id": "nb3rGduiGQkq"
      },
      "source": [
        "- we need the mglearn package :  \n",
        "  Helper functions for the book \"Introduction to Machine Learning with Python\""
      ]
    },
    {
      "cell_type": "markdown",
      "metadata": {
        "id": "GvJkFaILGQkr"
      },
      "source": [
        "#### Illustration du classificateur KNN avec le module mg-learn :\n",
        "Nous utilisons 3 voisins pour l'illustration."
      ]
    },
    {
      "cell_type": "code",
      "execution_count": 7,
      "metadata": {
        "id": "HZc-iRqwGQkr",
        "outputId": "439bde8a-546a-4e12-9a4e-aa1b4744bd76",
        "colab": {
          "base_uri": "https://localhost:8080/",
          "height": 430
        }
      },
      "outputs": [
        {
          "output_type": "display_data",
          "data": {
            "text/plain": [
              "<Figure size 640x480 with 1 Axes>"
            ],
            "image/png": "[encoded data removed]"
          },
          "metadata": {}
        }
      ],
      "source": [
        "import warnings\n",
        "warnings.filterwarnings('ignore')\n",
        "\n",
        "import mglearn\n",
        "from sklearn.datasets import make_blobs\n",
        "\n",
        "mglearn.plots.plot_knn_classification(n_neighbors=3)"
      ]
    },
    {
      "cell_type": "markdown",
      "metadata": {
        "id": "dOX1JG2KGQkr"
      },
      "source": [
        "Supposons que :\n",
        "   - Les cercles bleus représentent les tumeurs malignes\n",
        "   - Les triangles orange les tumeurs bénignes\n",
        "    \n",
        "   (comme appris par notre classificateur KNN).  \n",
        "   \n",
        "   - Les étoiles représentent un nouvel échantillon.  \n",
        "    \n",
        "Lorsque nous demandons à KNN de faire une prédiction, une décision ou une classification de ce nouveau point de données, il décidera de la moyenne de ces trois voisins.   \n",
        "il décidera de la moyenne de ces trois voisins."
      ]
    },
    {
      "cell_type": "code",
      "execution_count": 14,
      "metadata": {
        "id": "YLgo4t1lGQkr",
        "colab": {
          "base_uri": "https://localhost:8080/"
        },
        "outputId": "9380777c-48bb-4da8-c32a-9acc5785a40b"
      },
      "outputs": [
        {
          "output_type": "stream",
          "name": "stdout",
          "text": [
            "[0 0 0 0 0 0 0 0 0 0 0 0 0 0 0 0 0 0 0 1 1 1 0 0 0 0 0 0 0 0 0 0 0 0 0 0 0\n",
            " 1 0 0 0 0 0 0 0 0 1 0 1 1 1 1 1 0 0 1 0 0 1 1 1 1 0 1 0 0 1 1 1 1 0 1 0 0\n",
            " 1 0 1 0 0 1 1 1 0 0 1 0 0 0 1 1 1 0 1 1 0 0 1 1 1 0 0 1 1 1 1 0 1 1 0 1 1\n",
            " 1 1 1 1 1 1 0 0 0 1 0 0 1 1 1 0 0 1 0 1 0 0 1 0 0 1 1 0 1 1 0 1 1 1 1 0 1\n",
            " 1 1 1 1 1 1 1 1 0 1 1 1 1 0 0 1 0 1 1 0 0 1 1 0 0 1 1 1 1 0 1 1 0 0 0 1 0\n",
            " 1 0 1 1 1 0 1 1 0 0 1 0 0 0 0 1 0 0 0 1 0 1 0 1 1 0 1 0 0 0 0 1 1 0 0 1 1\n",
            " 1 0 1 1 1 1 1 0 0 1 1 0 1 1 0 0 1 0 1 1 1 1 0 1 1 1 1 1 0 1 0 0 0 0 0 0 0\n",
            " 0 0 0 0 0 0 0 1 1 1 1 1 1 0 1 0 1 1 0 1 1 0 1 0 0 1 1 1 1 1 1 1 1 1 1 1 1\n",
            " 1 0 1 1 0 1 0 1 1 1 1 1 1 1 1 1 1 1 1 1 1 0 1 1 1 0 1 0 1 1 1 1 0 0 0 1 1\n",
            " 1 1 0 1 0 1 0 1 1 1 0 1 1 1 1 1 1 1 0 0 0 1 1 1 1 1 1 1 1 1 1 1 0 0 1 0 0\n",
            " 0 1 0 0 1 1 1 1 1 0 1 1 1 1 1 0 1 1 1 0 1 1 0 0 1 1 1 1 1 1 0 1 1 1 1 1 1\n",
            " 1 0 1 1 1 1 1 0 1 1 0 1 1 1 1 1 1 1 1 1 1 1 1 0 1 0 0 1 0 1 1 1 1 1 0 1 1\n",
            " 0 1 0 1 1 0 1 0 1 1 1 1 1 1 1 1 0 0 1 1 1 1 1 1 0 1 1 1 1 1 1 1 1 1 1 0 1\n",
            " 1 1 1 1 1 1 0 1 0 1 1 0 1 1 1 1 1 0 0 1 0 1 0 1 1 1 1 1 0 1 1 0 1 0 1 0 0\n",
            " 1 1 1 0 1 1 1 1 1 1 1 1 1 1 1 0 1 0 0 1 1 1 1 1 1 1 1 1 1 1 1 1 1 1 1 1 1\n",
            " 1 1 1 1 1 1 1 0 0 0 0 0 0 1]\n",
            "[[1.799e+01 1.038e+01 1.228e+02 ... 2.654e-01 4.601e-01 1.189e-01]\n",
            " [2.057e+01 1.777e+01 1.329e+02 ... 1.860e-01 2.750e-01 8.902e-02]\n",
            " [1.969e+01 2.125e+01 1.300e+02 ... 2.430e-01 3.613e-01 8.758e-02]\n",
            " ...\n",
            " [1.660e+01 2.808e+01 1.083e+02 ... 1.418e-01 2.218e-01 7.820e-02]\n",
            " [2.060e+01 2.933e+01 1.401e+02 ... 2.650e-01 4.087e-01 1.240e-01]\n",
            " [7.760e+00 2.454e+01 4.792e+01 ... 0.000e+00 2.871e-01 7.039e-02]]\n"
          ]
        }
      ],
      "source": [
        "print(cancer.target)\n",
        "print(cancer.data)"
      ]
    },
    {
      "cell_type": "markdown",
      "metadata": {
        "id": "XFIWYiLxGQkr"
      },
      "source": [
        "#### Construct and train the KNN model :"
      ]
    },
    {
      "cell_type": "markdown",
      "metadata": {
        "id": "rNfjF8N_GQkr"
      },
      "source": [
        "### Diviser l'ensemble de données\n",
        "\n",
        "1. stratify :   \n",
        "les données sont divisées de manière stratifiée, en utilisant cancer.target comme étiquettes de classe.  \n",
        "Par exemple, s'il s'agit d'une variable catégorielle binaire avec des valeurs 0 et 1 et qu'il y a 25 % de zéros et 75 % de uns,   \n",
        "stratify=target s'assurera que votre répartition aléatoire comporte 25 % de 0 et 75 % de 1.  \n",
        "\n",
        "2. random_state :   \n",
        "contrôle le mélange appliqué aux données avant l'application de la division."
      ]
    },
    {
      "cell_type": "markdown",
      "metadata": {
        "id": "G8NvTXH-GQkr"
      },
      "source": [
        "weights{‘uniform’, ‘distance’, ‘callable’}, default=’uniform’"
      ]
    },
    {
      "cell_type": "code",
      "execution_count": 43,
      "metadata": {
        "id": "Ksaw1E9pGQks"
      },
      "outputs": [],
      "source": [
        "from sklearn.model_selection import train_test_split\n",
        "\n",
        "knn=KNeighborsClassifier()\n",
        "knn.classes_=cancer.target_names\n",
        "knn.feature_names_in_=cancer.feature_names\n",
        "X_train,X_test,y_train,y_test=train_test_split(cancer.data,cancer.target,stratify=cancer.target,random_state=28)\n",
        "knn.fit(X_train,y_train)\n",
        "\n",
        "y_pred=knn.predict(X_test)\n",
        "\n",
        "# Fill here"
      ]
    },
    {
      "cell_type": "markdown",
      "metadata": {
        "id": "TN4KSHOrGQks"
      },
      "source": [
        "knn.score :  \n",
        "Mean accuracy of self.predict(X) /wrt y."
      ]
    },
    {
      "cell_type": "markdown",
      "metadata": {
        "id": "-hNIjk5HGQks"
      },
      "source": [
        "#### Let's evaluate the algorithm"
      ]
    },
    {
      "cell_type": "code",
      "execution_count": 47,
      "metadata": {
        "id": "NjXbSoa4GQks",
        "colab": {
          "base_uri": "https://localhost:8080/"
        },
        "outputId": "f315713a-6ace-4efc-bb81-723bbc684638"
      },
      "outputs": [
        {
          "output_type": "stream",
          "name": "stdout",
          "text": [
            "0.9272300469483568\n",
            "0.9300699300699301\n",
            "0.965034965034965\n"
          ]
        }
      ],
      "source": [
        "# Fill here\n",
        "print(knn.score(X_train,y_train))\n",
        "print(knn.score(X_test,y_test))\n",
        "print(knn.score(X_test,y_pred))\n",
        "\n"
      ]
    },
    {
      "cell_type": "markdown",
      "metadata": {
        "id": "Mz2Jde8aGQks"
      },
      "source": [
        "Précision de KNN n-5, sur l'ensemble de test : 0.930  \n",
        "Cela signifie que l'algorithme KNN est capable de classer correctement 93% des données testées.  \n",
        "C'est un bon score, mais pouvons-nous travailler sur les paramètres pour l'améliorer encore ?"
      ]
    },
    {
      "cell_type": "markdown",
      "metadata": {
        "id": "AdnNFbNeGQks"
      },
      "source": [
        "Concentrons-nous sur le nombre de voisins.\n",
        "\n",
        "Rediviser l'ensemble de données :"
      ]
    },
    {
      "cell_type": "code",
      "execution_count": null,
      "metadata": {
        "scrolled": true,
        "id": "Q-i_-DvFGQkt"
      },
      "outputs": [],
      "source": [
        "# Fill here"
      ]
    },
    {
      "cell_type": "markdown",
      "metadata": {
        "id": "7q3t2indGQkt"
      },
      "source": [
        "Test the model with 1 to 30 neighbors and compare :"
      ]
    },
    {
      "cell_type": "code",
      "execution_count": 48,
      "metadata": {
        "id": "ut1jYtXxGQkt"
      },
      "outputs": [],
      "source": [
        "training_accuracy = []\n",
        "test_accuracy = []\n",
        "\n",
        "neighbors_settings = range(1, 30)\n",
        "\n",
        "for n_neighbors in neighbors_settings:\n",
        "  knn=KNeighborsClassifier(n_neighbors=n_neighbors)\n",
        "  knn.fit(X_train,y_train)\n",
        "  training_accuracy.append(knn.score(X_train,y_train))\n",
        "  test_accuracy.append(knn.score(X_test,y_test))"
      ]
    },
    {
      "cell_type": "code",
      "execution_count": 49,
      "metadata": {
        "id": "Vopnw4yAGQkt",
        "colab": {
          "base_uri": "https://localhost:8080/",
          "height": 467
        },
        "outputId": "5fbbb1cb-2ddc-40f7-9bab-d3b1f2a0f74e"
      },
      "outputs": [
        {
          "output_type": "execute_result",
          "data": {
            "text/plain": [
              "<matplotlib.legend.Legend at 0x78a021222c20>"
            ]
          },
          "metadata": {},
          "execution_count": 49
        },
        {
          "output_type": "display_data",
          "data": {
            "text/plain": [
              "<Figure size 640x480 with 1 Axes>"
            ],
            "image/png": "[encoded data removed]"
          },
          "metadata": {}
        }
      ],
      "source": [
        "# Display the results\n",
        "plt.plot(neighbors_settings, training_accuracy, label='Accuracy on the training set')\n",
        "plt.plot(neighbors_settings, test_accuracy, label='Accuracy on the test set')\n",
        "plt.ylabel('Accuracy')\n",
        "plt.xlabel('Number of neighbors')\n",
        "plt.legend()"
      ]
    },
    {
      "cell_type": "markdown",
      "metadata": {
        "id": "OkGFY-pzGQkt"
      },
      "source": [
        "### L'algorithme semble mieux fonctionner avec 6 voisins"
      ]
    },
    {
      "cell_type": "markdown",
      "metadata": {
        "id": "ga66gOEYGQkt"
      },
      "source": [
        "- Par défaut, nous avons pris toutes les caractéristiques de l'ensemble de données.\n",
        "- Quelles sont les caractéristiques les plus significatives ?"
      ]
    },
    {
      "cell_type": "code",
      "execution_count": 50,
      "metadata": {
        "id": "v76f4UfVGQkt",
        "colab": {
          "base_uri": "https://localhost:8080/",
          "height": 990
        },
        "outputId": "74e610ac-3c37-4afa-f51b-8707c9f66dea"
      },
      "outputs": [
        {
          "output_type": "execute_result",
          "data": {
            "text/plain": [
              "                    Feature  Accuracy\n",
              "0       mean concave points  0.913905\n",
              "1      worst concave points  0.894551\n",
              "2           worst perimeter  0.891033\n",
              "3                worst area  0.889297\n",
              "4              worst radius  0.889279\n",
              "5            mean perimeter  0.873480\n",
              "6               mean radius  0.869981\n",
              "7            mean concavity  0.868208\n",
              "8                 mean area  0.866453\n",
              "9                area error  0.855918\n",
              "10          worst concavity  0.833046\n",
              "11          perimeter error  0.790968\n",
              "12             radius error  0.776831\n",
              "13         mean compactness  0.768050\n",
              "14        worst compactness  0.753913\n",
              "15            worst texture  0.692342\n",
              "16     concave points error  0.680089\n",
              "17          concavity error  0.674863\n",
              "18           worst symmetry  0.664327\n",
              "19         worst smoothness  0.659055\n",
              "20        compactness error  0.652047\n",
              "21  worst fractal dimension  0.644946\n",
              "22             mean texture  0.644853\n",
              "23          mean smoothness  0.622092\n",
              "24            mean symmetry  0.620282\n",
              "25   mean fractal dimension  0.615140\n",
              "26         smoothness error  0.587070\n",
              "27  fractal dimension error  0.569489\n",
              "28            texture error  0.555370\n",
              "29           symmetry error  0.550070"
            ],
            "text/html": [
              "\n",
              "\n",
              "  <div id=\"df-dfc86b46-3e27-4bca-a410-ff8964333277\">\n",
              "    <div class=\"colab-df-container\">\n",
              "      <div>\n",
              "<style scoped>\n",
              "    .dataframe tbody tr th:only-of-type {\n",
              "        vertical-align: middle;\n",
              "    }\n",
              "\n",
              "    .dataframe tbody tr th {\n",
              "        vertical-align: top;\n",
              "    }\n",
              "\n",
              "    .dataframe thead th {\n",
              "        text-align: right;\n",
              "    }\n",
              "</style>\n",
              "<table border=\"1\" class=\"dataframe\">\n",
              "  <thead>\n",
              "    <tr style=\"text-align: right;\">\n",
              "      <th></th>\n",
              "      <th>Feature</th>\n",
              "      <th>Accuracy</th>\n",
              "    </tr>\n",
              "  </thead>\n",
              "  <tbody>\n",
              "    <tr>\n",
              "      <th>0</th>\n",
              "      <td>mean concave points</td>\n",
              "      <td>0.913905</td>\n",
              "    </tr>\n",
              "    <tr>\n",
              "      <th>1</th>\n",
              "      <td>worst concave points</td>\n",
              "      <td>0.894551</td>\n",
              "    </tr>\n",
              "    <tr>\n",
              "      <th>2</th>\n",
              "      <td>worst perimeter</td>\n",
              "      <td>0.891033</td>\n",
              "    </tr>\n",
              "    <tr>\n",
              "      <th>3</th>\n",
              "      <td>worst area</td>\n",
              "      <td>0.889297</td>\n",
              "    </tr>\n",
              "    <tr>\n",
              "      <th>4</th>\n",
              "      <td>worst radius</td>\n",
              "      <td>0.889279</td>\n",
              "    </tr>\n",
              "    <tr>\n",
              "      <th>5</th>\n",
              "      <td>mean perimeter</td>\n",
              "      <td>0.873480</td>\n",
              "    </tr>\n",
              "    <tr>\n",
              "      <th>6</th>\n",
              "      <td>mean radius</td>\n",
              "      <td>0.869981</td>\n",
              "    </tr>\n",
              "    <tr>\n",
              "      <th>7</th>\n",
              "      <td>mean concavity</td>\n",
              "      <td>0.868208</td>\n",
              "    </tr>\n",
              "    <tr>\n",
              "      <th>8</th>\n",
              "      <td>mean area</td>\n",
              "      <td>0.866453</td>\n",
              "    </tr>\n",
              "    <tr>\n",
              "      <th>9</th>\n",
              "      <td>area error</td>\n",
              "      <td>0.855918</td>\n",
              "    </tr>\n",
              "    <tr>\n",
              "      <th>10</th>\n",
              "      <td>worst concavity</td>\n",
              "      <td>0.833046</td>\n",
              "    </tr>\n",
              "    <tr>\n",
              "      <th>11</th>\n",
              "      <td>perimeter error</td>\n",
              "      <td>0.790968</td>\n",
              "    </tr>\n",
              "    <tr>\n",
              "      <th>12</th>\n",
              "      <td>radius error</td>\n",
              "      <td>0.776831</td>\n",
              "    </tr>\n",
              "    <tr>\n",
              "      <th>13</th>\n",
              "      <td>mean compactness</td>\n",
              "      <td>0.768050</td>\n",
              "    </tr>\n",
              "    <tr>\n",
              "      <th>14</th>\n",
              "      <td>worst compactness</td>\n",
              "      <td>0.753913</td>\n",
              "    </tr>\n",
              "    <tr>\n",
              "      <th>15</th>\n",
              "      <td>worst texture</td>\n",
              "      <td>0.692342</td>\n",
              "    </tr>\n",
              "    <tr>\n",
              "      <th>16</th>\n",
              "      <td>concave points error</td>\n",
              "      <td>0.680089</td>\n",
              "    </tr>\n",
              "    <tr>\n",
              "      <th>17</th>\n",
              "      <td>concavity error</td>\n",
              "      <td>0.674863</td>\n",
              "    </tr>\n",
              "    <tr>\n",
              "      <th>18</th>\n",
              "      <td>worst symmetry</td>\n",
              "      <td>0.664327</td>\n",
              "    </tr>\n",
              "    <tr>\n",
              "      <th>19</th>\n",
              "      <td>worst smoothness</td>\n",
              "      <td>0.659055</td>\n",
              "    </tr>\n",
              "    <tr>\n",
              "      <th>20</th>\n",
              "      <td>compactness error</td>\n",
              "      <td>0.652047</td>\n",
              "    </tr>\n",
              "    <tr>\n",
              "      <th>21</th>\n",
              "      <td>worst fractal dimension</td>\n",
              "      <td>0.644946</td>\n",
              "    </tr>\n",
              "    <tr>\n",
              "      <th>22</th>\n",
              "      <td>mean texture</td>\n",
              "      <td>0.644853</td>\n",
              "    </tr>\n",
              "    <tr>\n",
              "      <th>23</th>\n",
              "      <td>mean smoothness</td>\n",
              "      <td>0.622092</td>\n",
              "    </tr>\n",
              "    <tr>\n",
              "      <th>24</th>\n",
              "      <td>mean symmetry</td>\n",
              "      <td>0.620282</td>\n",
              "    </tr>\n",
              "    <tr>\n",
              "      <th>25</th>\n",
              "      <td>mean fractal dimension</td>\n",
              "      <td>0.615140</td>\n",
              "    </tr>\n",
              "    <tr>\n",
              "      <th>26</th>\n",
              "      <td>smoothness error</td>\n",
              "      <td>0.587070</td>\n",
              "    </tr>\n",
              "    <tr>\n",
              "      <th>27</th>\n",
              "      <td>fractal dimension error</td>\n",
              "      <td>0.569489</td>\n",
              "    </tr>\n",
              "    <tr>\n",
              "      <th>28</th>\n",
              "      <td>texture error</td>\n",
              "      <td>0.555370</td>\n",
              "    </tr>\n",
              "    <tr>\n",
              "      <th>29</th>\n",
              "      <td>symmetry error</td>\n",
              "      <td>0.550070</td>\n",
              "    </tr>\n",
              "  </tbody>\n",
              "</table>\n",
              "</div>\n",
              "      <button class=\"colab-df-convert\" onclick=\"convertToInteractive('df-dfc86b46-3e27-4bca-a410-ff8964333277')\"\n",
              "              title=\"Convert this dataframe to an interactive table.\"\n",
              "              style=\"display:none;\">\n",
              "\n",
              "  <svg xmlns=\"http://www.w3.org/2000/svg\" height=\"24px\"viewBox=\"0 0 24 24\"\n",
              "       width=\"24px\">\n",
              "    <path d=\"M0 0h24v24H0V0z\" fill=\"none\"/>\n",
              "    <path d=\"M18.56 5.44l.94 2.06.94-2.06 2.06-.94-2.06-.94-.94-2.06-.94 2.06-2.06.94zm-11 1L8.5 8.5l.94-2.06 2.06-.94-2.06-.94L8.5 2.5l-.94 2.06-2.06.94zm10 10l.94 2.06.94-2.06 2.06-.94-2.06-.94-.94-2.06-.94 2.06-2.06.94z\"/><path d=\"M17.41 7.96l-1.37-1.37c-.4-.4-.92-.59-1.43-.59-.52 0-1.04.2-1.43.59L10.3 9.45l-7.72 7.72c-.78.78-.78 2.05 0 2.83L4 21.41c.39.39.9.59 1.41.59.51 0 1.02-.2 1.41-.59l7.78-7.78 2.81-2.81c.8-.78.8-2.07 0-2.86zM5.41 20L4 18.59l7.72-7.72 1.47 1.35L5.41 20z\"/>\n",
              "  </svg>\n",
              "      </button>\n",
              "\n",
              "\n",
              "\n",
              "    <div id=\"df-63a8eacf-eef5-428e-8167-16cb7ab97319\">\n",
              "      <button class=\"colab-df-quickchart\" onclick=\"quickchart('df-63a8eacf-eef5-428e-8167-16cb7ab97319')\"\n",
              "              title=\"Suggest charts.\"\n",
              "              style=\"display:none;\">\n",
              "\n",
              "<svg xmlns=\"http://www.w3.org/2000/svg\" height=\"24px\"viewBox=\"0 0 24 24\"\n",
              "     width=\"24px\">\n",
              "    <g>\n",
              "        <path d=\"M19 3H5c-1.1 0-2 .9-2 2v14c0 1.1.9 2 2 2h14c1.1 0 2-.9 2-2V5c0-1.1-.9-2-2-2zM9 17H7v-7h2v7zm4 0h-2V7h2v10zm4 0h-2v-4h2v4z\"/>\n",
              "    </g>\n",
              "</svg>\n",
              "      </button>\n",
              "    </div>\n",
              "\n",
              "<style>\n",
              "  .colab-df-quickchart {\n",
              "    background-color: #E8F0FE;\n",
              "    border: none;\n",
              "    border-radius: 50%;\n",
              "    cursor: pointer;\n",
              "    display: none;\n",
              "    fill: #1967D2;\n",
              "    height: 32px;\n",
              "    padding: 0 0 0 0;\n",
              "    width: 32px;\n",
              "  }\n",
              "\n",
              "  .colab-df-quickchart:hover {\n",
              "    background-color: #E2EBFA;\n",
              "    box-shadow: 0px 1px 2px rgba(60, 64, 67, 0.3), 0px 1px 3px 1px rgba(60, 64, 67, 0.15);\n",
              "    fill: #174EA6;\n",
              "  }\n",
              "\n",
              "  [theme=dark] .colab-df-quickchart {\n",
              "    background-color: #3B4455;\n",
              "    fill: #D2E3FC;\n",
              "  }\n",
              "\n",
              "  [theme=dark] .colab-df-quickchart:hover {\n",
              "    background-color: #434B5C;\n",
              "    box-shadow: 0px 1px 3px 1px rgba(0, 0, 0, 0.15);\n",
              "    filter: drop-shadow(0px 1px 2px rgba(0, 0, 0, 0.3));\n",
              "    fill: #FFFFFF;\n",
              "  }\n",
              "</style>\n",
              "\n",
              "    <script>\n",
              "      async function quickchart(key) {\n",
              "        const containerElement = document.querySelector('#' + key);\n",
              "        const charts = await google.colab.kernel.invokeFunction(\n",
              "            'suggestCharts', [key], {});\n",
              "      }\n",
              "    </script>\n",
              "\n",
              "      <script>\n",
              "\n",
              "function displayQuickchartButton(domScope) {\n",
              "  let quickchartButtonEl =\n",
              "    domScope.querySelector('#df-63a8eacf-eef5-428e-8167-16cb7ab97319 button.colab-df-quickchart');\n",
              "  quickchartButtonEl.style.display =\n",
              "    google.colab.kernel.accessAllowed ? 'block' : 'none';\n",
              "}\n",
              "\n",
              "        displayQuickchartButton(document);\n",
              "      </script>\n",
              "      <style>\n",
              "    .colab-df-container {\n",
              "      display:flex;\n",
              "      flex-wrap:wrap;\n",
              "      gap: 12px;\n",
              "    }\n",
              "\n",
              "    .colab-df-convert {\n",
              "      background-color: #E8F0FE;\n",
              "      border: none;\n",
              "      border-radius: 50%;\n",
              "      cursor: pointer;\n",
              "      display: none;\n",
              "      fill: #1967D2;\n",
              "      height: 32px;\n",
              "      padding: 0 0 0 0;\n",
              "      width: 32px;\n",
              "    }\n",
              "\n",
              "    .colab-df-convert:hover {\n",
              "      background-color: #E2EBFA;\n",
              "      box-shadow: 0px 1px 2px rgba(60, 64, 67, 0.3), 0px 1px 3px 1px rgba(60, 64, 67, 0.15);\n",
              "      fill: #174EA6;\n",
              "    }\n",
              "\n",
              "    [theme=dark] .colab-df-convert {\n",
              "      background-color: #3B4455;\n",
              "      fill: #D2E3FC;\n",
              "    }\n",
              "\n",
              "    [theme=dark] .colab-df-convert:hover {\n",
              "      background-color: #434B5C;\n",
              "      box-shadow: 0px 1px 3px 1px rgba(0, 0, 0, 0.15);\n",
              "      filter: drop-shadow(0px 1px 2px rgba(0, 0, 0, 0.3));\n",
              "      fill: #FFFFFF;\n",
              "    }\n",
              "  </style>\n",
              "\n",
              "      <script>\n",
              "        const buttonEl =\n",
              "          document.querySelector('#df-dfc86b46-3e27-4bca-a410-ff8964333277 button.colab-df-convert');\n",
              "        buttonEl.style.display =\n",
              "          google.colab.kernel.accessAllowed ? 'block' : 'none';\n",
              "\n",
              "        async function convertToInteractive(key) {\n",
              "          const element = document.querySelector('#df-dfc86b46-3e27-4bca-a410-ff8964333277');\n",
              "          const dataTable =\n",
              "            await google.colab.kernel.invokeFunction('convertToInteractive',\n",
              "                                                     [key], {});\n",
              "          if (!dataTable) return;\n",
              "\n",
              "          const docLinkHtml = 'Like what you see? Visit the ' +\n",
              "            '<a target=\"_blank\" href=https://colab.research.google.com/notebooks/data_table.ipynb>data table notebook</a>'\n",
              "            + ' to learn more about interactive tables.';\n",
              "          element.innerHTML = '';\n",
              "          dataTable['output_type'] = 'display_data';\n",
              "          await google.colab.output.renderOutput(dataTable, element);\n",
              "          const docLink = document.createElement('div');\n",
              "          docLink.innerHTML = docLinkHtml;\n",
              "          element.appendChild(docLink);\n",
              "        }\n",
              "      </script>\n",
              "    </div>\n",
              "  </div>\n"
            ]
          },
          "metadata": {},
          "execution_count": 50
        }
      ],
      "source": [
        "import numpy as np\n",
        "import pandas as pd\n",
        "\n",
        "from sklearn.model_selection import cross_val_score\n",
        "\n",
        "clf = KNeighborsClassifier()\n",
        "n_feats = cancer.data.shape[1]\n",
        "y =  cancer.target\n",
        "\n",
        "sign_dict = {}\n",
        "\n",
        "for i in range(n_feats):\n",
        "    X = cancer.data[:, i].reshape(-1, 1)\n",
        "    scores = cross_val_score(clf, X, y, cv=3)\n",
        "    sign_dict[i]=scores.mean()\n",
        "    sign_dict = {k: v for k, v in sorted(sign_dict.items(), key=lambda item: item[1],reverse=True)}\n",
        "\n",
        "nd = []\n",
        "\n",
        "for v in sign_dict:\n",
        "    nd.append ([cancer.feature_names[v], sign_dict[v]])\n",
        "\n",
        "pdf = pd.DataFrame(data=nd, columns=['Feature','Accuracy'])\n",
        "pdf"
      ]
    },
    {
      "cell_type": "code",
      "execution_count": 51,
      "metadata": {
        "id": "gLpMenU7GQku",
        "colab": {
          "base_uri": "https://localhost:8080/",
          "height": 869
        },
        "outputId": "411e5604-60ba-44cb-dfbf-07a06997f321"
      },
      "outputs": [
        {
          "output_type": "display_data",
          "data": {
            "text/plain": [
              "<Figure size 500x1050 with 1 Axes>"
            ],
            "image/png": "[encoded data removed]"
          },
          "metadata": {}
        }
      ],
      "source": [
        "import matplotlib.pyplot as plt\n",
        "import matplotlib as matplotlib\n",
        "from matplotlib.pyplot import figure\n",
        "\n",
        "pdf = pdf.sort_values(by=['Accuracy'])\n",
        "\n",
        "pdf.plot(kind='barh',x='Feature',y='Accuracy',orientation='horizontal')\n",
        "fig = matplotlib.pyplot.gcf()\n",
        "fig.set_size_inches(5, 10.5)\n",
        "plt.show()"
      ]
    },
    {
      "cell_type": "markdown",
      "metadata": {
        "id": "BA_cZ3QgGQku"
      },
      "source": [
        "#### Une façon d'améliorer la précision du modèle :\n",
        "Nous pouvons améliorer le modèle en sélectionnant les caractéristiques les plus pertinentes et en éliminant celles qui sont moins importantes.\n",
        "Pour chaque modification de la liste des caractéristiques, on entraîne le modèle et on observe l'évolution du score."
      ]
    }
  ],
  "metadata": {
    "kernelspec": {
      "display_name": "Python 3",
      "language": "python",
      "name": "python3"
    },
    "language_info": {
      "codemirror_mode": {
        "name": "ipython",
        "version": 3
      },
      "file_extension": ".py",
      "mimetype": "text/x-python",
      "name": "python",
      "nbconvert_exporter": "python",
      "pygments_lexer": "ipython3",
      "version": "3.6.8"
    },
    "colab": {
      "provenance": [],
      "include_colab_link": true
    }
  },
  "nbformat": 4,
  "nbformat_minor": 0
}