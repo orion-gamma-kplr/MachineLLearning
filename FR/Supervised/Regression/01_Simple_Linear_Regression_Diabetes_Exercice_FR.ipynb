{
  "cells": [
    {
      "cell_type": "markdown",
      "metadata": {
        "id": "view-in-github",
        "colab_type": "text"
      },
      "source": [
        "<a href=\"https://colab.research.google.com/github/orion-gamma-kplr/MachineLLearning/blob/main/FR/Supervised/Regression/01_Simple_Linear_Regression_Diabetes_Exercice_FR.ipynb\" target=\"_parent\"><img src=\"https://colab.research.google.com/assets/colab-badge.svg\" alt=\"Open In Colab\"/></a>"
      ]
    },
    {
      "cell_type": "markdown",
      "metadata": {
        "id": "FZEJi2_JlzzN"
      },
      "source": [
        "### <center>Régression Linéaire Simple</center>\n",
        "\n",
        "* https://scikit-learn.org/stable/modules/generated/sklearn.linear_model.LinearRegression.html"
      ]
    },
    {
      "cell_type": "code",
      "execution_count": 28,
      "metadata": {
        "id": "7M6TeRUflzzW"
      },
      "outputs": [],
      "source": [
        "import matplotlib.pyplot as plt\n",
        "import numpy as np\n",
        "\n",
        "from sklearn import datasets, linear_model\n",
        "from sklearn.metrics import mean_squared_error, r2_score"
      ]
    },
    {
      "cell_type": "markdown",
      "metadata": {
        "id": "gObJNUZNlzza"
      },
      "source": [
        "#### Explorons la description de l'ensemble de données."
      ]
    },
    {
      "cell_type": "code",
      "execution_count": 3,
      "metadata": {
        "id": "_g0rgUIZlzzb",
        "outputId": "24a6a8a5-b447-425d-b5ed-c889e56c3909",
        "colab": {
          "base_uri": "https://localhost:8080/"
        }
      },
      "outputs": [
        {
          "output_type": "stream",
          "name": "stdout",
          "text": [
            ".. _diabetes_dataset:\n",
            "\n",
            "Diabetes dataset\n",
            "----------------\n",
            "\n",
            "Ten baseline variables, age, sex, body mass index, average blood\n",
            "pressure, and six blood serum measurements were obtained for each of n =\n",
            "442 diabetes patients, as well as the response of interest, a\n",
            "quantitative measure of disease progression one year after baseline.\n",
            "\n",
            "**Data Set Characteristics:**\n",
            "\n",
            "  :Number of Instances: 442\n",
            "\n",
            "  :Number of Attributes: First 10 columns are numeric predictive values\n",
            "\n",
            "  :Target: Column 11 is a quantitative measure of disease progression one year after baseline\n",
            "\n",
            "  :Attribute Information:\n",
            "      - age     age in years\n",
            "      - sex\n",
            "      - bmi     body mass index\n",
            "      - bp      average blood pressure\n",
            "      - s1      tc, total serum cholesterol\n",
            "      - s2      ldl, low-density lipoproteins\n",
            "      - s3      hdl, high-density lipoproteins\n",
            "      - s4      tch, total cholesterol / HDL\n",
            "      - s5      ltg, possibly log of serum triglycerides level\n",
            "      - s6      glu, blood sugar level\n",
            "\n",
            "Note: Each of these 10 feature variables have been mean centered and scaled by the standard deviation times the square root of `n_samples` (i.e. the sum of squares of each column totals 1).\n",
            "\n",
            "Source URL:\n",
            "https://www4.stat.ncsu.edu/~boos/var.select/diabetes.html\n",
            "\n",
            "For more information see:\n",
            "Bradley Efron, Trevor Hastie, Iain Johnstone and Robert Tibshirani (2004) \"Least Angle Regression,\" Annals of Statistics (with discussion), 407-499.\n",
            "(https://web.stanford.edu/~hastie/Papers/LARS/LeastAngle_2002.pdf)\n",
            "\n"
          ]
        }
      ],
      "source": [
        "db = datasets.load_diabetes()\n",
        "\n",
        "print(db.DESCR)"
      ]
    },
    {
      "cell_type": "markdown",
      "metadata": {
        "id": "UCFKtnKOlzzd"
      },
      "source": [
        "#### Quelles sont les features ?"
      ]
    },
    {
      "cell_type": "code",
      "execution_count": 9,
      "metadata": {
        "id": "jaisub3Klzze",
        "outputId": "5d7258e3-d6ee-4e1d-ba6a-910c857b5848",
        "colab": {
          "base_uri": "https://localhost:8080/"
        }
      },
      "outputs": [
        {
          "output_type": "stream",
          "name": "stdout",
          "text": [
            "<class 'sklearn.utils._bunch.Bunch'>\n",
            "['age', 'sex', 'bmi', 'bp', 's1', 's2', 's3', 's4', 's5', 's6']\n"
          ]
        }
      ],
      "source": [
        "from pprint import pprint\n",
        "\n",
        "print(type(db))\n",
        "pprint(db['feature_names'])\n"
      ]
    },
    {
      "cell_type": "code",
      "execution_count": 24,
      "metadata": {
        "id": "8EQwcoDBlzzf",
        "outputId": "27db7468-36f2-4e02-8de8-e4e23e210f1a",
        "colab": {
          "base_uri": "https://localhost:8080/"
        }
      },
      "outputs": [
        {
          "output_type": "stream",
          "name": "stdout",
          "text": [
            "<class 'numpy.ndarray'>\n",
            "<class 'numpy.ndarray'>\n",
            "442\n"
          ]
        }
      ],
      "source": [
        "# Load the diabetes dataset\n",
        "diabetes_X, diabetes_y = datasets.load_diabetes(return_X_y=True)\n",
        "pprint(type(diabetes_X))\n",
        "diabetes_X.shape\n",
        "pprint(type(diabetes_y))\n",
        "pprint(len(diabetes_y))"
      ]
    },
    {
      "cell_type": "markdown",
      "metadata": {
        "id": "PX0IkP8nlzzg"
      },
      "source": [
        "#### N'utilisez qu'une seule caractéristique : Body Mass (2)."
      ]
    },
    {
      "cell_type": "code",
      "execution_count": 25,
      "metadata": {
        "id": "3jvzG4ujlzzh",
        "outputId": "ee7b10e8-1bfb-482c-d299-e32b663b0377",
        "colab": {
          "base_uri": "https://localhost:8080/"
        }
      },
      "outputs": [
        {
          "output_type": "execute_result",
          "data": {
            "text/plain": [
              "(442, 1)"
            ]
          },
          "metadata": {},
          "execution_count": 25
        }
      ],
      "source": [
        "diabetes_X = diabetes_X[:, np.newaxis, 2]\n",
        "\n",
        "diabetes_X.shape\n"
      ]
    },
    {
      "cell_type": "code",
      "execution_count": 13,
      "metadata": {
        "id": "KOwtuwUtlzzi",
        "outputId": "cb2c3dcb-9c90-4988-de2f-2c8999f049f6",
        "colab": {
          "base_uri": "https://localhost:8080/"
        }
      },
      "outputs": [
        {
          "output_type": "stream",
          "name": "stdout",
          "text": [
            "422\n"
          ]
        }
      ],
      "source": [
        "print(len(diabetes_X[:-20]))"
      ]
    },
    {
      "cell_type": "code",
      "execution_count": 14,
      "metadata": {
        "id": "CYqRtObKlzzj",
        "outputId": "fa32da33-a72f-49c8-cf41-9519c2eb55fb",
        "colab": {
          "base_uri": "https://localhost:8080/"
        }
      },
      "outputs": [
        {
          "output_type": "stream",
          "name": "stdout",
          "text": [
            "20\n"
          ]
        }
      ],
      "source": [
        "print(len(diabetes_X[-20:]))"
      ]
    },
    {
      "cell_type": "markdown",
      "metadata": {
        "id": "iwF3SEcAlzzk"
      },
      "source": [
        "#### Diviser les données en ensembles de training et de test..\n",
        "* [:-20] >> Tous sauf les 20 derniers éléments\n",
        "* [-20:] >> Seulement les 20 derniers éléments"
      ]
    },
    {
      "cell_type": "code",
      "execution_count": 35,
      "metadata": {
        "id": "4rpslcjIlzzl",
        "outputId": "79ef8f4c-aa29-4439-d469-284078095606",
        "colab": {
          "base_uri": "https://localhost:8080/"
        }
      },
      "outputs": [
        {
          "output_type": "stream",
          "name": "stdout",
          "text": [
            "array([[ 0.06169621],\n",
            "       [-0.05147406],\n",
            "       [ 0.04445121],\n",
            "       [-0.01159501],\n",
            "       [-0.03638469],\n",
            "       [-0.04069594],\n",
            "       [-0.04716281],\n",
            "       [-0.00189471],\n",
            "       [ 0.06169621],\n",
            "       [ 0.03906215],\n",
            "       [-0.08380842],\n",
            "       [ 0.01750591],\n",
            "       [-0.02884001],\n",
            "       [-0.00189471],\n",
            "       [-0.02560657],\n",
            "       [-0.01806189],\n",
            "       [ 0.04229559],\n",
            "       [ 0.01211685],\n",
            "       [-0.0105172 ],\n",
            "       [-0.01806189],\n",
            "       [-0.05686312],\n",
            "       [-0.02237314],\n",
            "       [-0.00405033],\n",
            "       [ 0.06061839],\n",
            "       [ 0.03582872],\n",
            "       [-0.01267283],\n",
            "       [-0.07734155],\n",
            "       [ 0.05954058],\n",
            "       [-0.02129532],\n",
            "       [-0.00620595],\n",
            "       [ 0.04445121],\n",
            "       [-0.06548562],\n",
            "       [ 0.12528712],\n",
            "       [-0.05039625],\n",
            "       [-0.06332999],\n",
            "       [-0.03099563],\n",
            "       [ 0.02289497],\n",
            "       [ 0.01103904],\n",
            "       [ 0.07139652],\n",
            "       [ 0.01427248],\n",
            "       [-0.00836158],\n",
            "       [-0.06764124],\n",
            "       [-0.0105172 ],\n",
            "       [-0.02345095],\n",
            "       [ 0.06816308],\n",
            "       [-0.03530688],\n",
            "       [-0.01159501],\n",
            "       [-0.0730303 ],\n",
            "       [-0.04177375],\n",
            "       [ 0.01427248],\n",
            "       [-0.00728377],\n",
            "       [ 0.0164281 ],\n",
            "       [-0.00943939],\n",
            "       [-0.01590626],\n",
            "       [ 0.0250506 ],\n",
            "       [-0.04931844],\n",
            "       [ 0.04121778],\n",
            "       [-0.06332999],\n",
            "       [-0.06440781],\n",
            "       [-0.02560657],\n",
            "       [-0.00405033],\n",
            "       [ 0.00457217],\n",
            "       [-0.00728377],\n",
            "       [-0.0374625 ],\n",
            "       [-0.02560657],\n",
            "       [-0.02452876],\n",
            "       [-0.01806189],\n",
            "       [-0.01482845],\n",
            "       [-0.02991782],\n",
            "       [-0.046085  ],\n",
            "       [-0.06979687],\n",
            "       [ 0.03367309],\n",
            "       [-0.00405033],\n",
            "       [-0.02021751],\n",
            "       [ 0.00241654],\n",
            "       [-0.03099563],\n",
            "       [ 0.02828403],\n",
            "       [-0.03638469],\n",
            "       [-0.05794093],\n",
            "       [-0.0374625 ],\n",
            "       [ 0.01211685],\n",
            "       [-0.02237314],\n",
            "       [-0.03530688],\n",
            "       [ 0.00996123],\n",
            "       [-0.03961813],\n",
            "       [ 0.07139652],\n",
            "       [-0.07518593],\n",
            "       [-0.00620595],\n",
            "       [-0.04069594],\n",
            "       [-0.04824063],\n",
            "       [-0.02560657],\n",
            "       [ 0.0519959 ],\n",
            "       [ 0.00457217],\n",
            "       [-0.06440781],\n",
            "       [-0.01698407],\n",
            "       [-0.05794093],\n",
            "       [ 0.00996123],\n",
            "       [ 0.08864151],\n",
            "       [-0.00512814],\n",
            "       [-0.06440781],\n",
            "       [ 0.01750591],\n",
            "       [-0.04500719],\n",
            "       [ 0.02828403],\n",
            "       [ 0.04121778],\n",
            "       [ 0.06492964],\n",
            "       [-0.03207344],\n",
            "       [-0.07626374],\n",
            "       [ 0.04984027],\n",
            "       [ 0.04552903],\n",
            "       [-0.00943939],\n",
            "       [-0.03207344],\n",
            "       [ 0.00457217],\n",
            "       [ 0.02073935],\n",
            "       [ 0.01427248],\n",
            "       [ 0.11019775],\n",
            "       [ 0.00133873],\n",
            "       [ 0.05846277],\n",
            "       [-0.02129532],\n",
            "       [-0.0105172 ],\n",
            "       [-0.04716281],\n",
            "       [ 0.00457217],\n",
            "       [ 0.01750591],\n",
            "       [ 0.08109682],\n",
            "       [ 0.0347509 ],\n",
            "       [ 0.02397278],\n",
            "       [-0.00836158],\n",
            "       [-0.06117437],\n",
            "       [-0.00189471],\n",
            "       [-0.06225218],\n",
            "       [ 0.0164281 ],\n",
            "       [ 0.09618619],\n",
            "       [-0.06979687],\n",
            "       [-0.02129532],\n",
            "       [-0.05362969],\n",
            "       [ 0.0433734 ],\n",
            "       [ 0.05630715],\n",
            "       [-0.0816528 ],\n",
            "       [ 0.04984027],\n",
            "       [ 0.11127556],\n",
            "       [ 0.06169621],\n",
            "       [ 0.01427248],\n",
            "       [ 0.04768465],\n",
            "       [ 0.01211685],\n",
            "       [ 0.00564998],\n",
            "       [ 0.04660684],\n",
            "       [ 0.12852056],\n",
            "       [ 0.05954058],\n",
            "       [ 0.09295276],\n",
            "       [ 0.01535029],\n",
            "       [-0.00512814],\n",
            "       [ 0.0703187 ],\n",
            "       [-0.00405033],\n",
            "       [-0.00081689],\n",
            "       [-0.04392938],\n",
            "       [ 0.02073935],\n",
            "       [ 0.06061839],\n",
            "       [-0.0105172 ],\n",
            "       [-0.03315126],\n",
            "       [-0.06548562],\n",
            "       [ 0.0433734 ],\n",
            "       [-0.06225218],\n",
            "       [ 0.06385183],\n",
            "       [ 0.03043966],\n",
            "       [ 0.07247433],\n",
            "       [-0.0191397 ],\n",
            "       [-0.06656343],\n",
            "       [-0.06009656],\n",
            "       [ 0.06924089],\n",
            "       [ 0.05954058],\n",
            "       [-0.02668438],\n",
            "       [-0.02021751],\n",
            "       [-0.046085  ],\n",
            "       [ 0.07139652],\n",
            "       [-0.07949718],\n",
            "       [ 0.00996123],\n",
            "       [-0.03854032],\n",
            "       [ 0.01966154],\n",
            "       [ 0.02720622],\n",
            "       [-0.00836158],\n",
            "       [-0.01590626],\n",
            "       [ 0.00457217],\n",
            "       [-0.04285156],\n",
            "       [ 0.00564998],\n",
            "       [-0.03530688],\n",
            "       [ 0.02397278],\n",
            "       [-0.01806189],\n",
            "       [ 0.04229559],\n",
            "       [-0.0547075 ],\n",
            "       [-0.00297252],\n",
            "       [-0.06656343],\n",
            "       [-0.01267283],\n",
            "       [-0.04177375],\n",
            "       [-0.03099563],\n",
            "       [-0.00512814],\n",
            "       [-0.05901875],\n",
            "       [ 0.0250506 ],\n",
            "       [-0.046085  ],\n",
            "       [ 0.00349435],\n",
            "       [ 0.05415152],\n",
            "       [-0.04500719],\n",
            "       [-0.05794093],\n",
            "       [-0.05578531],\n",
            "       [ 0.00133873],\n",
            "       [ 0.03043966],\n",
            "       [ 0.00672779],\n",
            "       [ 0.04660684],\n",
            "       [ 0.02612841],\n",
            "       [ 0.04552903],\n",
            "       [ 0.04013997],\n",
            "       [-0.01806189],\n",
            "       [ 0.01427248],\n",
            "       [ 0.03690653],\n",
            "       [ 0.00349435],\n",
            "       [-0.07087468],\n",
            "       [-0.03315126],\n",
            "       [ 0.09403057],\n",
            "       [ 0.03582872],\n",
            "       [ 0.03151747],\n",
            "       [-0.06548562],\n",
            "       [-0.04177375],\n",
            "       [-0.03961813],\n",
            "       [-0.03854032],\n",
            "       [-0.02560657],\n",
            "       [-0.02345095],\n",
            "       [-0.06656343],\n",
            "       [ 0.03259528],\n",
            "       [-0.046085  ],\n",
            "       [-0.02991782],\n",
            "       [-0.01267283],\n",
            "       [-0.01590626],\n",
            "       [ 0.07139652],\n",
            "       [-0.03099563],\n",
            "       [ 0.00026092],\n",
            "       [ 0.03690653],\n",
            "       [ 0.03906215],\n",
            "       [-0.01482845],\n",
            "       [ 0.00672779],\n",
            "       [-0.06871905],\n",
            "       [-0.00943939],\n",
            "       [ 0.01966154],\n",
            "       [ 0.07462995],\n",
            "       [-0.00836158],\n",
            "       [-0.02345095],\n",
            "       [-0.046085  ],\n",
            "       [ 0.05415152],\n",
            "       [-0.03530688],\n",
            "       [-0.03207344],\n",
            "       [-0.0816528 ],\n",
            "       [ 0.04768465],\n",
            "       [ 0.06061839],\n",
            "       [ 0.05630715],\n",
            "       [ 0.09834182],\n",
            "       [ 0.05954058],\n",
            "       [ 0.03367309],\n",
            "       [ 0.05630715],\n",
            "       [-0.06548562],\n",
            "       [ 0.16085492],\n",
            "       [-0.05578531],\n",
            "       [-0.02452876],\n",
            "       [-0.03638469],\n",
            "       [-0.00836158],\n",
            "       [-0.04177375],\n",
            "       [ 0.12744274],\n",
            "       [-0.07734155],\n",
            "       [ 0.02828403],\n",
            "       [-0.02560657],\n",
            "       [-0.06225218],\n",
            "       [-0.00081689],\n",
            "       [ 0.08864151],\n",
            "       [-0.03207344],\n",
            "       [ 0.03043966],\n",
            "       [ 0.00888341],\n",
            "       [ 0.00672779],\n",
            "       [-0.02021751],\n",
            "       [-0.02452876],\n",
            "       [-0.01159501],\n",
            "       [ 0.02612841],\n",
            "       [-0.05901875],\n",
            "       [-0.03638469],\n",
            "       [-0.02452876],\n",
            "       [ 0.01858372],\n",
            "       [-0.0902753 ],\n",
            "       [-0.00512814],\n",
            "       [-0.05255187],\n",
            "       [-0.02237314],\n",
            "       [-0.02021751],\n",
            "       [-0.0547075 ],\n",
            "       [-0.00620595],\n",
            "       [-0.01698407],\n",
            "       [ 0.05522933],\n",
            "       [ 0.07678558],\n",
            "       [ 0.01858372],\n",
            "       [-0.02237314],\n",
            "       [ 0.09295276],\n",
            "       [-0.03099563],\n",
            "       [ 0.03906215],\n",
            "       [-0.06117437],\n",
            "       [-0.00836158],\n",
            "       [-0.0374625 ],\n",
            "       [-0.01375064],\n",
            "       [ 0.07355214],\n",
            "       [-0.02452876],\n",
            "       [ 0.03367309],\n",
            "       [ 0.0347509 ],\n",
            "       [-0.03854032],\n",
            "       [-0.03961813],\n",
            "       [-0.00189471],\n",
            "       [-0.03099563],\n",
            "       [-0.046085  ],\n",
            "       [ 0.00133873],\n",
            "       [ 0.06492964],\n",
            "       [ 0.04013997],\n",
            "       [-0.02345095],\n",
            "       [ 0.05307371],\n",
            "       [ 0.04013997],\n",
            "       [-0.02021751],\n",
            "       [ 0.01427248],\n",
            "       [-0.03422907],\n",
            "       [ 0.00672779],\n",
            "       [ 0.00457217],\n",
            "       [ 0.03043966],\n",
            "       [ 0.0519959 ],\n",
            "       [ 0.06169621],\n",
            "       [-0.00728377],\n",
            "       [ 0.00564998],\n",
            "       [ 0.05415152],\n",
            "       [-0.00836158],\n",
            "       [ 0.114509  ],\n",
            "       [ 0.06708527],\n",
            "       [-0.05578531],\n",
            "       [ 0.03043966],\n",
            "       [-0.02560657],\n",
            "       [ 0.10480869],\n",
            "       [-0.00620595],\n",
            "       [-0.04716281],\n",
            "       [-0.04824063],\n",
            "       [ 0.08540807],\n",
            "       [-0.01267283],\n",
            "       [-0.03315126],\n",
            "       [-0.00728377],\n",
            "       [-0.01375064],\n",
            "       [ 0.05954058],\n",
            "       [ 0.02181716],\n",
            "       [ 0.01858372],\n",
            "       [-0.01159501],\n",
            "       [-0.00297252],\n",
            "       [ 0.01750591],\n",
            "       [-0.02991782],\n",
            "       [-0.02021751],\n",
            "       [-0.05794093],\n",
            "       [ 0.06061839],\n",
            "       [-0.04069594],\n",
            "       [-0.07195249],\n",
            "       [-0.05578531],\n",
            "       [ 0.04552903],\n",
            "       [-0.00943939],\n",
            "       [-0.03315126],\n",
            "       [ 0.04984027],\n",
            "       [-0.08488624],\n",
            "       [ 0.00564998],\n",
            "       [ 0.02073935],\n",
            "       [-0.00728377],\n",
            "       [ 0.10480869],\n",
            "       [-0.02452876],\n",
            "       [-0.00620595],\n",
            "       [-0.03854032],\n",
            "       [ 0.13714305],\n",
            "       [ 0.17055523],\n",
            "       [ 0.00241654],\n",
            "       [ 0.03798434],\n",
            "       [-0.05794093],\n",
            "       [-0.00943939],\n",
            "       [-0.02345095],\n",
            "       [-0.0105172 ],\n",
            "       [-0.03422907],\n",
            "       [-0.00297252],\n",
            "       [ 0.06816308],\n",
            "       [ 0.00996123],\n",
            "       [ 0.00241654],\n",
            "       [-0.03854032],\n",
            "       [ 0.02612841],\n",
            "       [-0.08919748],\n",
            "       [ 0.06061839],\n",
            "       [-0.02884001],\n",
            "       [-0.02991782],\n",
            "       [-0.0191397 ],\n",
            "       [-0.04069594],\n",
            "       [ 0.01535029],\n",
            "       [-0.02452876],\n",
            "       [ 0.00133873],\n",
            "       [ 0.06924089],\n",
            "       [-0.06979687],\n",
            "       [-0.02991782],\n",
            "       [-0.046085  ],\n",
            "       [ 0.01858372],\n",
            "       [ 0.00133873],\n",
            "       [-0.03099563],\n",
            "       [-0.00405033],\n",
            "       [ 0.01535029],\n",
            "       [ 0.02289497],\n",
            "       [ 0.04552903],\n",
            "       [-0.04500719],\n",
            "       [-0.03315126],\n",
            "       [ 0.097264  ],\n",
            "       [ 0.05415152],\n",
            "       [ 0.12313149],\n",
            "       [-0.08057499],\n",
            "       [ 0.09295276],\n",
            "       [-0.05039625],\n",
            "       [-0.01159501],\n",
            "       [-0.0277622 ],\n",
            "       [ 0.05846277],\n",
            "       [ 0.08540807],\n",
            "       [-0.00081689],\n",
            "       [ 0.00672779],\n",
            "       [ 0.00888341],\n",
            "       [ 0.08001901],\n",
            "       [ 0.07139652],\n",
            "       [-0.02452876],\n",
            "       [-0.0547075 ],\n",
            "       [-0.03638469],\n",
            "       [ 0.0164281 ]])\n",
            "array([[ 0.07786339],\n",
            "       [-0.03961813],\n",
            "       [ 0.01103904],\n",
            "       [-0.04069594],\n",
            "       [-0.03422907],\n",
            "       [ 0.00564998],\n",
            "       [ 0.08864151],\n",
            "       [-0.03315126],\n",
            "       [-0.05686312],\n",
            "       [-0.03099563],\n",
            "       [ 0.05522933],\n",
            "       [-0.06009656],\n",
            "       [ 0.00133873],\n",
            "       [-0.02345095],\n",
            "       [-0.07410811],\n",
            "       [ 0.01966154],\n",
            "       [-0.01590626],\n",
            "       [-0.01590626],\n",
            "       [ 0.03906215],\n",
            "       [-0.0730303 ]])\n",
            "array([151.,  75., 141., 206., 135.,  97., 138.,  63., 110., 310., 101.,\n",
            "        69., 179., 185., 118., 171., 166., 144.,  97., 168.,  68.,  49.,\n",
            "        68., 245., 184., 202., 137.,  85., 131., 283., 129.,  59., 341.,\n",
            "        87.,  65., 102., 265., 276., 252.,  90., 100.,  55.,  61.,  92.,\n",
            "       259.,  53., 190., 142.,  75., 142., 155., 225.,  59., 104., 182.,\n",
            "       128.,  52.,  37., 170., 170.,  61., 144.,  52., 128.,  71., 163.,\n",
            "       150.,  97., 160., 178.,  48., 270., 202., 111.,  85.,  42., 170.,\n",
            "       200., 252., 113., 143.,  51.,  52., 210.,  65., 141.,  55., 134.,\n",
            "        42., 111.,  98., 164.,  48.,  96.,  90., 162., 150., 279.,  92.,\n",
            "        83., 128., 102., 302., 198.,  95.,  53., 134., 144., 232.,  81.,\n",
            "       104.,  59., 246., 297., 258., 229., 275., 281., 179., 200., 200.,\n",
            "       173., 180.,  84., 121., 161.,  99., 109., 115., 268., 274., 158.,\n",
            "       107.,  83., 103., 272.,  85., 280., 336., 281., 118., 317., 235.,\n",
            "        60., 174., 259., 178., 128.,  96., 126., 288.,  88., 292.,  71.,\n",
            "       197., 186.,  25.,  84.,  96., 195.,  53., 217., 172., 131., 214.,\n",
            "        59.,  70., 220., 268., 152.,  47.,  74., 295., 101., 151., 127.,\n",
            "       237., 225.,  81., 151., 107.,  64., 138., 185., 265., 101., 137.,\n",
            "       143., 141.,  79., 292., 178.,  91., 116.,  86., 122.,  72., 129.,\n",
            "       142.,  90., 158.,  39., 196., 222., 277.,  99., 196., 202., 155.,\n",
            "        77., 191.,  70.,  73.,  49.,  65., 263., 248., 296., 214., 185.,\n",
            "        78.,  93., 252., 150.,  77., 208.,  77., 108., 160.,  53., 220.,\n",
            "       154., 259.,  90., 246., 124.,  67.,  72., 257., 262., 275., 177.,\n",
            "        71.,  47., 187., 125.,  78.,  51., 258., 215., 303., 243.,  91.,\n",
            "       150., 310., 153., 346.,  63.,  89.,  50.,  39., 103., 308., 116.,\n",
            "       145.,  74.,  45., 115., 264.,  87., 202., 127., 182., 241.,  66.,\n",
            "        94., 283.,  64., 102., 200., 265.,  94., 230., 181., 156., 233.,\n",
            "        60., 219.,  80.,  68., 332., 248.,  84., 200.,  55.,  85.,  89.,\n",
            "        31., 129.,  83., 275.,  65., 198., 236., 253., 124.,  44., 172.,\n",
            "       114., 142., 109., 180., 144., 163., 147.,  97., 220., 190., 109.,\n",
            "       191., 122., 230., 242., 248., 249., 192., 131., 237.,  78., 135.,\n",
            "       244., 199., 270., 164.,  72.,  96., 306.,  91., 214.,  95., 216.,\n",
            "       263., 178., 113., 200., 139., 139.,  88., 148.,  88., 243.,  71.,\n",
            "        77., 109., 272.,  60.,  54., 221.,  90., 311., 281., 182., 321.,\n",
            "        58., 262., 206., 233., 242., 123., 167.,  63., 197.,  71., 168.,\n",
            "       140., 217., 121., 235., 245.,  40.,  52., 104., 132.,  88.,  69.,\n",
            "       219.,  72., 201., 110.,  51., 277.,  63., 118.,  69., 273., 258.,\n",
            "        43., 198., 242., 232., 175.,  93., 168., 275., 293., 281.,  72.,\n",
            "       140., 189., 181., 209., 136., 261., 113., 131., 174., 257.,  55.,\n",
            "        84.,  42., 146., 212.])\n",
            "array([233.,  91., 111., 152., 120.,  67., 310.,  94., 183.,  66., 173.,\n",
            "        72.,  49.,  64.,  48., 178., 104., 132., 220.,  57.])\n"
          ]
        }
      ],
      "source": [
        "# Fill here\n",
        "\n",
        "diabetes_X_train = diabetes_X[:-20]\n",
        "diabetes_X_test = diabetes_X[-20:]\n",
        "pprint(diabetes_X_train)\n",
        "pprint(diabetes_X_test)\n",
        "diabetes_y_train = diabetes_y[:-20]\n",
        "diabetes_y_test = diabetes_y[-20:]\n",
        "pprint(diabetes_y_train)\n",
        "pprint(diabetes_y_test)\n"
      ]
    },
    {
      "cell_type": "markdown",
      "metadata": {
        "id": "D9jk63Rilzzl"
      },
      "source": [
        "#### Créer le modèle :\n",
        "1. Créer un objet de régression linéaire.\n",
        "2. Entraînez le modèle à l'aide de l'ensemble d'entraînement.\n",
        "3. Faire des prédictions à l'aide de l'ensemble de test."
      ]
    },
    {
      "cell_type": "code",
      "execution_count": 50,
      "metadata": {
        "id": "0ZsR-zUllzzm",
        "outputId": "cb425b21-46f0-4256-d8e0-9e627c382fb9",
        "colab": {
          "base_uri": "https://localhost:8080/"
        }
      },
      "outputs": [
        {
          "output_type": "stream",
          "name": "stdout",
          "text": [
            "array([938.23786125])\n",
            "152.91886182616113\n",
            "array([225.9732401 , 115.74763374, 163.27610621, 114.73638965,\n",
            "       120.80385422, 158.21988574, 236.08568105, 121.81509832,\n",
            "        99.56772822, 123.83758651, 204.73711411,  96.53399594,\n",
            "       154.17490936, 130.91629517,  83.3878227 , 171.36605897,\n",
            "       137.99500384, 137.99500384, 189.56845268,  84.3990668 ])\n"
          ]
        }
      ],
      "source": [
        "# Fill here\n",
        "clf= linear_model.LinearRegression()\n",
        "clf.fit(diabetes_X_train, diabetes_y_train)\n",
        "diabetes_y_pred=clf.predict(diabetes_X_test)\n",
        "pprint(clf.coef_)\n",
        "pprint(clf.intercept_)\n",
        "pprint(diabetes_y_pred)\n"
      ]
    },
    {
      "cell_type": "markdown",
      "metadata": {
        "id": "WKni1_4rlzzn"
      },
      "source": [
        "#### Vérifier la précision :\n",
        "* Mean squared error.\n",
        "* Score."
      ]
    },
    {
      "cell_type": "code",
      "execution_count": 51,
      "metadata": {
        "id": "R0ikVy-0lzzn",
        "outputId": "df733eb8-c828-48c5-e4e9-29b583ae7beb",
        "colab": {
          "base_uri": "https://localhost:8080/"
        }
      },
      "outputs": [
        {
          "output_type": "stream",
          "name": "stdout",
          "text": [
            "Mean squared error: 2548.07\n",
            "Coefficient of determination: 0.47\n"
          ]
        }
      ],
      "source": [
        "# Fill here\n",
        "print(\"Mean squared error: %.2f\" % mean_squared_error(diabetes_y_test, diabetes_y_pred))\n",
        "# The coefficient of determination: 1 is perfect prediction\n",
        "print(\"Coefficient of determination: %.2f\" % r2_score(diabetes_y_test, diabetes_y_pred))"
      ]
    },
    {
      "cell_type": "markdown",
      "metadata": {
        "id": "F1yebpeGlzzo"
      },
      "source": [
        "#### Plot outputs :"
      ]
    },
    {
      "cell_type": "code",
      "execution_count": 52,
      "metadata": {
        "id": "of8QMdDNlzzo",
        "outputId": "bc3e1646-2f43-4881-ba69-dbb3afe3de8a",
        "colab": {
          "base_uri": "https://localhost:8080/",
          "height": 430
        }
      },
      "outputs": [
        {
          "output_type": "display_data",
          "data": {
            "text/plain": [
              "<Figure size 640x480 with 1 Axes>"
            ],
            "image/png": "[encoded data removed]"
          },
          "metadata": {}
        }
      ],
      "source": [
        "plt.scatter(diabetes_X_test, diabetes_y_test,  color='black')\n",
        "plt.plot(diabetes_X_test, diabetes_y_pred, color='blue', linewidth=2)\n",
        "\n",
        "plt.show()"
      ]
    }
  ],
  "metadata": {
    "kernelspec": {
      "display_name": "Python 3",
      "language": "python",
      "name": "python3"
    },
    "language_info": {
      "codemirror_mode": {
        "name": "ipython",
        "version": 3
      },
      "file_extension": ".py",
      "mimetype": "text/x-python",
      "name": "python",
      "nbconvert_exporter": "python",
      "pygments_lexer": "ipython3",
      "version": "3.6.8"
    },
    "colab": {
      "provenance": [],
      "include_colab_link": true
    }
  },
  "nbformat": 4,
  "nbformat_minor": 0
}